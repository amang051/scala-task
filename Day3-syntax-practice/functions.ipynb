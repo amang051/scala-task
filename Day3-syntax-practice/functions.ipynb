{
 "cells": [
  {
   "cell_type": "code",
   "execution_count": 2,
   "metadata": {},
   "outputs": [
    {
     "name": "stdout",
     "output_type": "stream",
     "text": [
      "Hi aman\n"
     ]
    },
    {
     "data": {
      "text/plain": [
       "defined \u001b[32mfunction\u001b[39m \u001b[36mgreet\u001b[39m"
      ]
     },
     "execution_count": 2,
     "metadata": {},
     "output_type": "execute_result"
    }
   ],
   "source": [
    "def greet(name: String): String = {\n",
    "    return \"Hi \" + name\n",
    "}\n",
    "println(greet(\"aman\"))"
   ]
  },
  {
   "cell_type": "code",
   "execution_count": 3,
   "metadata": {},
   "outputs": [
    {
     "name": "stdout",
     "output_type": "stream",
     "text": [
      "Hi! aman\n"
     ]
    },
    {
     "data": {
      "text/plain": [
       "defined \u001b[32mfunction\u001b[39m \u001b[36mgreet\u001b[39m"
      ]
     },
     "execution_count": 3,
     "metadata": {},
     "output_type": "execute_result"
    }
   ],
   "source": [
    "def greet(name: String): String = {\n",
    "    \"Hi! \" + name\n",
    "}\n",
    "println(greet(\"aman\"))"
   ]
  },
  {
   "cell_type": "code",
   "execution_count": 7,
   "metadata": {},
   "outputs": [
    {
     "name": "stdout",
     "output_type": "stream",
     "text": [
      "Hi!! aman\n"
     ]
    },
    {
     "data": {
      "text/plain": [
       "defined \u001b[32mfunction\u001b[39m \u001b[36mgreet\u001b[39m"
      ]
     },
     "execution_count": 7,
     "metadata": {},
     "output_type": "execute_result"
    }
   ],
   "source": [
    "def greet(name: String): String = {\n",
    "    val newName: String = \"Hi!! \" + name \n",
    "    newName\n",
    "}\n",
    "println(greet(\"aman\"))"
   ]
  },
  {
   "cell_type": "code",
   "execution_count": 8,
   "metadata": {},
   "outputs": [
    {
     "name": "stdout",
     "output_type": "stream",
     "text": [
      "Processed aman\n"
     ]
    },
    {
     "data": {
      "text/plain": [
       "defined \u001b[32mfunction\u001b[39m \u001b[36mgreet\u001b[39m"
      ]
     },
     "execution_count": 8,
     "metadata": {},
     "output_type": "execute_result"
    }
   ],
   "source": [
    "def greet(name: String): String = \"Processed \" + name\n",
    "println(greet(\"aman\"))"
   ]
  },
  {
   "cell_type": "code",
   "execution_count": 1,
   "metadata": {},
   "outputs": [
    {
     "name": "stdout",
     "output_type": "stream",
     "text": [
      "3\n"
     ]
    },
    {
     "data": {
      "text/plain": [
       "defined \u001b[32mfunction\u001b[39m \u001b[36msum\u001b[39m\n",
       "\u001b[36madd\u001b[39m: \u001b[32mInt\u001b[39m = \u001b[32m3\u001b[39m"
      ]
     },
     "execution_count": 1,
     "metadata": {},
     "output_type": "execute_result"
    }
   ],
   "source": [
    "def sum(a:Int, b: Int): Int = a+b\n",
    "\n",
    "val add = sum(1, 2)\n",
    "\n",
    "println(add)"
   ]
  },
  {
   "cell_type": "code",
   "execution_count": 3,
   "metadata": {},
   "outputs": [
    {
     "name": "stdout",
     "output_type": "stream",
     "text": [
      "3\n"
     ]
    },
    {
     "data": {
      "text/plain": [
       "\u001b[36msum\u001b[39m: (\u001b[32mInt\u001b[39m, \u001b[32mInt\u001b[39m) => \u001b[32mInt\u001b[39m = ammonite.$sess.cmd3$Helper$$Lambda/0x000007f0018435c8@4815b239"
      ]
     },
     "execution_count": 3,
     "metadata": {},
     "output_type": "execute_result"
    }
   ],
   "source": [
    "val sum = (a: Int, b: Int) => a+b  // anonymous function\n",
    "// we need to explicitly specify the data type of parameters used in this anonymous function\n",
    "println(sum(1, 2))"
   ]
  },
  {
   "cell_type": "code",
   "execution_count": 4,
   "metadata": {},
   "outputs": [
    {
     "name": "stdout",
     "output_type": "stream",
     "text": [
      "12\n"
     ]
    },
    {
     "data": {
      "text/plain": [
       "\u001b[36mmultiply\u001b[39m: (\u001b[32mInt\u001b[39m, \u001b[32mInt\u001b[39m) => \u001b[32mInt\u001b[39m = ammonite.$sess.cmd4$Helper$$Lambda/0x000007f001940908@b46ee80"
      ]
     },
     "execution_count": 4,
     "metadata": {},
     "output_type": "execute_result"
    }
   ],
   "source": [
    "val multiply: (Int, Int) => Int = (x, y) => x*y\n",
    "println(multiply(3, 4))"
   ]
  },
  {
   "cell_type": "code",
   "execution_count": 1,
   "metadata": {},
   "outputs": [
    {
     "name": "stdout",
     "output_type": "stream",
     "text": [
      "Process Desktop Application X23 has started\n",
      "Process DB Service has started\n"
     ]
    },
    {
     "data": {
      "text/plain": [
       "defined \u001b[32mfunction\u001b[39m \u001b[36mprocess\u001b[39m\n",
       "\u001b[36mtarget\u001b[39m: \u001b[32mString\u001b[39m => \u001b[32mString\u001b[39m = ammonite.$sess.cmd1$Helper$$Lambda/0x00001f0001215a48@7e83a141\n",
       "\u001b[36motherTarget\u001b[39m: \u001b[32mString\u001b[39m => \u001b[32mString\u001b[39m = ammonite.$sess.cmd1$Helper$$Lambda/0x00001f000183e000@3b1c643a"
      ]
     },
     "execution_count": 1,
     "metadata": {},
     "output_type": "execute_result"
    }
   ],
   "source": [
    "def process(x : String) : String = s\"Process $x has started\"\n",
    "val target = process _ // '_' is used to implicit the type of function automatically\n",
    "println(target(\"Desktop Application X23\"))\n",
    "\n",
    "val otherTarget : String => String = process\n",
    "println(otherTarget(\"DB Service\"))"
   ]
  },
  {
   "cell_type": "code",
   "execution_count": 2,
   "metadata": {},
   "outputs": [
    {
     "name": "stdout",
     "output_type": "stream",
     "text": [
      "In the original call\n",
      "India\n",
      "Back to the original call\n",
      "In the original call\n",
      "India\n",
      "Back to the original call\n",
      "In the original call\n",
      "India\n",
      "Back to the original call\n",
      "In the original call\n",
      "India\n",
      "Back to the original call\n",
      "In the original call\n",
      "India\n",
      "Back to the original call\n",
      "Done!\n"
     ]
    },
    {
     "data": {
      "text/plain": [
       "defined \u001b[32mfunction\u001b[39m \u001b[36mcallMeIWillSendYouThatManyTimes\u001b[39m\n",
       "\u001b[36mmethod\u001b[39m: \u001b[32mString\u001b[39m => \u001b[32mUnit\u001b[39m = ammonite.$sess.cmd2$Helper$$Lambda/0x00001f000183f538@87d2a0e"
      ]
     },
     "execution_count": 2,
     "metadata": {},
     "output_type": "execute_result"
    }
   ],
   "source": [
    "def callMeIWillSendYouThatManyTimes(times : Int, method : (String) => Unit) = {\n",
    "    for(i <- 1 to times) {\n",
    "        println(\"In the original call\")\n",
    "        method(\"India\")\n",
    "        println(\"Back to the original call\")\n",
    "    }\n",
    "    println(\"Done!\")\n",
    "}\n",
    "val method = (place : String) => println(place)\n",
    "callMeIWillSendYouThatManyTimes(5, method)"
   ]
  },
  {
   "cell_type": "code",
   "execution_count": 1,
   "metadata": {},
   "outputs": [
    {
     "data": {
      "text/plain": [
       "defined \u001b[32mfunction\u001b[39m \u001b[36mfilterIt\u001b[39m"
      ]
     },
     "execution_count": 1,
     "metadata": {},
     "output_type": "execute_result"
    }
   ],
   "source": [
    "def filterIt(elements : Array[Int], logic : Int => Boolean) : Array[Int] = {\n",
    "    var a = 0\n",
    "    var count = 0\n",
    "    for(data <- elements) {\n",
    "        if(logic(data)) {\n",
    "            count += 1\n",
    "        }\n",
    "    }\n",
    "    val arr = Array.fill(count)(0)\n",
    "    for(data <- elements) {\n",
    "        if(logic(data)) {\n",
    "            arr(a) = data\n",
    "            a += 1\n",
    "        }\n",
    "    }\n",
    "    return arr\n",
    "}"
   ]
  },
  {
   "cell_type": "code",
   "execution_count": 4,
   "metadata": {},
   "outputs": [
    {
     "name": "stdout",
     "output_type": "stream",
     "text": [
      "453 -> 645 -> 645 -> 6 -> 4545 -> 45 -> \n",
      "453 -> 464 -> "
     ]
    },
    {
     "data": {
      "text/plain": [
       "\u001b[36mnumArr\u001b[39m: \u001b[32mArray\u001b[39m[\u001b[32mInt\u001b[39m] = \u001b[33mArray\u001b[39m(\u001b[32m40\u001b[39m, \u001b[32m641\u001b[39m, \u001b[32m6452\u001b[39m, \u001b[32m453\u001b[39m, \u001b[32m4546\u001b[39m, \u001b[32m464\u001b[39m, \u001b[32m645\u001b[39m, \u001b[32m645\u001b[39m, \u001b[32m6\u001b[39m, \u001b[32m4545\u001b[39m, \u001b[32m45\u001b[39m)\n",
       "\u001b[36mresult\u001b[39m: \u001b[32mArray\u001b[39m[\u001b[32mInt\u001b[39m] = \u001b[33mArray\u001b[39m(\u001b[32m453\u001b[39m, \u001b[32m645\u001b[39m, \u001b[32m645\u001b[39m, \u001b[32m6\u001b[39m, \u001b[32m4545\u001b[39m, \u001b[32m45\u001b[39m)\n",
       "\u001b[36mresult1\u001b[39m: \u001b[32mArray\u001b[39m[\u001b[32mInt\u001b[39m] = \u001b[33mArray\u001b[39m(\u001b[32m453\u001b[39m, \u001b[32m464\u001b[39m)"
      ]
     },
     "execution_count": 4,
     "metadata": {},
     "output_type": "execute_result"
    }
   ],
   "source": [
    "val numArr : Array[Int] = Array(40, 641, 6452, 453, 4546, 464, 645, 645, 6, 4545, 45)\n",
    "val result : Array[Int] = filterIt(numArr, (x) => if (x%3 == 0) true else false)\n",
    "val result1 : Array[Int] = filterIt(numArr, (x) => if (x >= 100 && x <= 500) true else false)\n",
    "for(x <- result) {\n",
    "    print(s\"$x -> \")\n",
    "}\n",
    "print(\"\\n\")\n",
    "for(x <- result1) {\n",
    "    print(s\"$x -> \")\n",
    "}"
   ]
  }
 ],
 "metadata": {
  "kernelspec": {
   "display_name": "Scala",
   "language": "scala",
   "name": "scala"
  },
  "language_info": {
   "codemirror_mode": "text/x-scala",
   "file_extension": ".sc",
   "mimetype": "text/x-scala",
   "name": "scala",
   "nbconvert_exporter": "script",
   "version": "2.13.14"
  }
 },
 "nbformat": 4,
 "nbformat_minor": 2
}
