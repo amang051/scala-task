{
 "cells": [
  {
   "cell_type": "markdown",
   "metadata": {},
   "source": [
    "# Object Oriented Programming in Scala"
   ]
  },
  {
   "cell_type": "markdown",
   "metadata": {},
   "source": [
    "#### Class"
   ]
  },
  {
   "cell_type": "markdown",
   "metadata": {},
   "source": [
    "A class is a blueprint for creating objects. It can contain fields (variables) and methods (functions)."
   ]
  },
  {
   "cell_type": "code",
   "execution_count": 2,
   "metadata": {},
   "outputs": [
    {
     "data": {
      "text/plain": [
       "defined \u001b[32mclass\u001b[39m \u001b[36mShape\u001b[39m\n",
       "defined \u001b[32mclass\u001b[39m \u001b[36mNewShape\u001b[39m"
      ]
     },
     "execution_count": 2,
     "metadata": {},
     "output_type": "execute_result"
    }
   ],
   "source": [
    "class Shape {\n",
    "    // fields in class\n",
    "    var name : String = \"Square\"  // mutable field\n",
    "    val side : Int = 4            // immutable field\n",
    "}\n",
    "\n",
    "// defining the fields directly in the class signature\n",
    "class NewShape(var name : String = \"Rectangle\", val side : Int = 4)"
   ]
  },
  {
   "cell_type": "markdown",
   "metadata": {},
   "source": [
    "#### Object"
   ]
  },
  {
   "cell_type": "markdown",
   "metadata": {},
   "source": [
    "An object is an instance of a class. It is a concrete implementation that can hold data and execute methods defined in the class."
   ]
  },
  {
   "cell_type": "code",
   "execution_count": 3,
   "metadata": {},
   "outputs": [
    {
     "name": "stdout",
     "output_type": "stream",
     "text": [
      "Name : Square\n",
      "Sides : 4\n",
      "Name : Rectangle\n",
      "Sides : 4\n"
     ]
    },
    {
     "data": {
      "text/plain": [
       "\u001b[36mshape\u001b[39m: \u001b[32mShape\u001b[39m = ammonite.$sess.cmd2$Helper$Shape@6eecc713\n",
       "\u001b[36mnewshape\u001b[39m: \u001b[32mNewShape\u001b[39m = ammonite.$sess.cmd2$Helper$NewShape@5e3e65c1"
      ]
     },
     "execution_count": 3,
     "metadata": {},
     "output_type": "execute_result"
    }
   ],
   "source": [
    "val shape = new Shape  // object of the Shape class\n",
    "\n",
    "// accessing the fields of Shape class using object\n",
    "println(\"Name : \" + shape.name)\n",
    "println(\"Sides : \" + shape.side)\n",
    "\n",
    "val newshape = new NewShape  // object of the Shape class\n",
    "\n",
    "// accessing the fields of Shape class using object\n",
    "println(\"Name : \" + newshape.name)\n",
    "println(\"Sides : \" + newshape.side)"
   ]
  },
  {
   "cell_type": "markdown",
   "metadata": {},
   "source": [
    "#### Constructor"
   ]
  },
  {
   "cell_type": "markdown",
   "metadata": {},
   "source": [
    "A constructor is a special method called when an instance of a class is created. It initializes the object."
   ]
  },
  {
   "cell_type": "code",
   "execution_count": 4,
   "metadata": {},
   "outputs": [
    {
     "name": "stdout",
     "output_type": "stream",
     "text": [
      "Name : Square\n",
      "Name : Triangle\n"
     ]
    },
    {
     "data": {
      "text/plain": [
       "defined \u001b[32mclass\u001b[39m \u001b[36mShape\u001b[39m\n",
       "\u001b[36mshape1\u001b[39m: \u001b[32mShape\u001b[39m = ammonite.$sess.cmd4$Helper$Shape@2683181\n",
       "\u001b[36mshape2\u001b[39m: \u001b[32mShape\u001b[39m = ammonite.$sess.cmd4$Helper$Shape@3917940d"
      ]
     },
     "execution_count": 4,
     "metadata": {},
     "output_type": "execute_result"
    }
   ],
   "source": [
    "class Shape(shapeName : String = \"Square\") {   // setting default value of name as Square\n",
    "    val name : String = shapeName\n",
    "}\n",
    "\n",
    "val shape1 = new Shape\n",
    "println(\"Name : \" + shape1.name) // prints default value Square\n",
    "\n",
    "val shape2 = new Shape(\"Triangle\")\n",
    "println(\"Name : \" + shape2.name) // prints Triangle"
   ]
  },
  {
   "cell_type": "markdown",
   "metadata": {},
   "source": [
    "#### Method"
   ]
  },
  {
   "cell_type": "markdown",
   "metadata": {},
   "source": [
    "Methods are defined using the def keyword, followed by the method name, parameters (if any), and the return type (optional)."
   ]
  },
  {
   "cell_type": "code",
   "execution_count": 5,
   "metadata": {},
   "outputs": [
    {
     "name": "stdout",
     "output_type": "stream",
     "text": [
      "32\n"
     ]
    },
    {
     "data": {
      "text/plain": [
       "defined \u001b[32mclass\u001b[39m \u001b[36mShape\u001b[39m\n",
       "\u001b[36mshape\u001b[39m: \u001b[32mShape\u001b[39m = ammonite.$sess.cmd5$Helper$Shape@18bc4f74"
      ]
     },
     "execution_count": 5,
     "metadata": {},
     "output_type": "execute_result"
    }
   ],
   "source": [
    "class Shape {\n",
    "    val name : String = \"Square\"\n",
    "    val side : Int = 4\n",
    "\n",
    "    def getArea(length : Int) : Int = {\n",
    "        length * side\n",
    "    }\n",
    "}\n",
    "\n",
    "val shape = new Shape\n",
    "println(shape.getArea(8)) // prints 8*4 = 32"
   ]
  },
  {
   "cell_type": "markdown",
   "metadata": {},
   "source": [
    "#### Instance Variable"
   ]
  },
  {
   "cell_type": "markdown",
   "metadata": {},
   "source": [
    "Instance variables are variables defined inside a class. They hold the state of an object."
   ]
  },
  {
   "cell_type": "code",
   "execution_count": 6,
   "metadata": {},
   "outputs": [
    {
     "name": "stdout",
     "output_type": "stream",
     "text": [
      "Toyota\n",
      "2020\n"
     ]
    },
    {
     "data": {
      "text/plain": [
       "defined \u001b[32mclass\u001b[39m \u001b[36mCar\u001b[39m\n",
       "\u001b[36mcar1\u001b[39m: \u001b[32mCar\u001b[39m = ammonite.$sess.cmd6$Helper$Car@14fe2197"
      ]
     },
     "execution_count": 6,
     "metadata": {},
     "output_type": "execute_result"
    }
   ],
   "source": [
    "class Car(val model : String, val year : Int)\n",
    "\n",
    "val car1 = new Car(\"Toyota\", 2020) // car1 is Instance variable\n",
    "println(car1.model) // Prints Toyota\n",
    "println(car1.year) // Prints 2020"
   ]
  },
  {
   "cell_type": "markdown",
   "metadata": {},
   "source": [
    "#### Encapsulation"
   ]
  },
  {
   "cell_type": "markdown",
   "metadata": {},
   "source": [
    "Encapsulation is the concept of bundling the data (variables) and methods that operate on that data into a single unit or class. It restricts direct access to some of the object’s components, which is a means of preventing unintended interference and misuse of the methods and data."
   ]
  },
  {
   "cell_type": "code",
   "execution_count": 7,
   "metadata": {},
   "outputs": [
    {
     "name": "stdout",
     "output_type": "stream",
     "text": [
      "1500.0\n",
      "1200.0\n"
     ]
    },
    {
     "data": {
      "text/plain": [
       "defined \u001b[32mclass\u001b[39m \u001b[36mBankAccount\u001b[39m\n",
       "\u001b[36maccount\u001b[39m: \u001b[32mBankAccount\u001b[39m = ammonite.$sess.cmd7$Helper$BankAccount@5041dc48"
      ]
     },
     "execution_count": 7,
     "metadata": {},
     "output_type": "execute_result"
    }
   ],
   "source": [
    "class BankAccount(private var balance : Double) {\n",
    "  def deposit(amount : Double) : Unit = {\n",
    "    if(amount > 0) balance += amount\n",
    "  }\n",
    "  def withdraw(amount : Double) : Unit = {\n",
    "    if(amount > 0 && amount <= balance) balance -= amount\n",
    "  }\n",
    "  def getBalance : Double = balance\n",
    "}\n",
    "\n",
    "val account = new BankAccount(1000)\n",
    "account.deposit(500)\n",
    "println(account.getBalance) // Prints 1500.0\n",
    "\n",
    "account.withdraw(300)\n",
    "println(account.getBalance) // Prints 1200.0\n",
    "\n",
    "// if we try to access the balance directly using the object (i.e. account.balance) it will give compile error"
   ]
  },
  {
   "cell_type": "markdown",
   "metadata": {},
   "source": [
    "#### Abstraction"
   ]
  },
  {
   "cell_type": "markdown",
   "metadata": {},
   "source": [
    "Abstraction is the concept of hiding the complex implementation details and exposing only the necessary parts of an object. It helps in reducing programming complexity."
   ]
  },
  {
   "cell_type": "code",
   "execution_count": 8,
   "metadata": {},
   "outputs": [
    {
     "name": "stdout",
     "output_type": "stream",
     "text": [
      "Woof!\n"
     ]
    },
    {
     "data": {
      "text/plain": [
       "defined \u001b[32mclass\u001b[39m \u001b[36mAnimal\u001b[39m\n",
       "defined \u001b[32mclass\u001b[39m \u001b[36mDog\u001b[39m\n",
       "\u001b[36mdog\u001b[39m: \u001b[32mDog\u001b[39m = ammonite.$sess.cmd8$Helper$Dog@d05af5a"
      ]
     },
     "execution_count": 8,
     "metadata": {},
     "output_type": "execute_result"
    }
   ],
   "source": [
    "// implementation is hidden in abstract class\n",
    "abstract class Animal {\n",
    "  def sound() : String\n",
    "}\n",
    "\n",
    "class Dog extends Animal {\n",
    "  def sound() : String = \"Woof!\"\n",
    "}\n",
    "\n",
    "val dog = new Dog\n",
    "println(dog.sound()) // Prints Woof!"
   ]
  },
  {
   "cell_type": "markdown",
   "metadata": {},
   "source": [
    "#### Access Specifiers"
   ]
  },
  {
   "cell_type": "markdown",
   "metadata": {},
   "source": [
    "Access specifiers control the visibility of class members (variables and methods). Common access specifiers are public, private, and protected."
   ]
  },
  {
   "cell_type": "code",
   "execution_count": 9,
   "metadata": {},
   "outputs": [
    {
     "name": "stdout",
     "output_type": "stream",
     "text": [
      "1000.0\n"
     ]
    },
    {
     "data": {
      "text/plain": [
       "defined \u001b[32mclass\u001b[39m \u001b[36mBankAccount\u001b[39m\n",
       "\u001b[36maccount\u001b[39m: \u001b[32mBankAccount\u001b[39m = ammonite.$sess.cmd9$Helper$BankAccount@5c8e6f39"
      ]
     },
     "execution_count": 9,
     "metadata": {},
     "output_type": "execute_result"
    }
   ],
   "source": [
    "class BankAccount(private var balance: Double) { // private field\n",
    "  def getBalance: Double = balance // Public method\n",
    "}\n",
    "\n",
    "// private fields cannot be accessed outside of the class declaration\n",
    "\n",
    "val account = new BankAccount(1000)\n",
    "println(account.getBalance)"
   ]
  },
  {
   "cell_type": "markdown",
   "metadata": {},
   "source": [
    "#### Inheritence"
   ]
  },
  {
   "cell_type": "markdown",
   "metadata": {},
   "source": [
    "Inheritance is a mechanism where a new class (subclass or child class) derives properties and behavior (methods) from an existing class (superclass or parent class). It promotes code reuse."
   ]
  },
  {
   "cell_type": "code",
   "execution_count": 10,
   "metadata": {},
   "outputs": [
    {
     "name": "stdout",
     "output_type": "stream",
     "text": [
      "Car starting...\n"
     ]
    },
    {
     "data": {
      "text/plain": [
       "defined \u001b[32mclass\u001b[39m \u001b[36mVehicle\u001b[39m\n",
       "defined \u001b[32mclass\u001b[39m \u001b[36mCar\u001b[39m\n",
       "\u001b[36mmyCar\u001b[39m: \u001b[32mCar\u001b[39m = ammonite.$sess.cmd10$Helper$Car@6a35c4f2"
      ]
     },
     "execution_count": 10,
     "metadata": {},
     "output_type": "execute_result"
    }
   ],
   "source": [
    "class Vehicle {\n",
    "  def start() : String = \"Vehicle starting...\"\n",
    "}\n",
    "\n",
    "class Car extends Vehicle { // car is-a vehicle\n",
    "  override def start() : String = \"Car starting...\"\n",
    "}\n",
    "\n",
    "val myCar = new Car\n",
    "println(myCar.start()) // Prints Car starting..."
   ]
  },
  {
   "cell_type": "markdown",
   "metadata": {},
   "source": [
    "#### Superclass and subclass"
   ]
  },
  {
   "cell_type": "markdown",
   "metadata": {},
   "source": [
    "The superclass is the parent class from which other classes (subclasses) inherit properties and methods. The subclass is the child class that inherits from the superclass."
   ]
  },
  {
   "cell_type": "code",
   "execution_count": 11,
   "metadata": {},
   "outputs": [
    {
     "name": "stdout",
     "output_type": "stream",
     "text": [
      "Eating...\n",
      "Meow!\n"
     ]
    },
    {
     "data": {
      "text/plain": [
       "defined \u001b[32mclass\u001b[39m \u001b[36mAnimal\u001b[39m\n",
       "defined \u001b[32mclass\u001b[39m \u001b[36mCat\u001b[39m\n",
       "\u001b[36mmyCat\u001b[39m: \u001b[32mCat\u001b[39m = ammonite.$sess.cmd11$Helper$Cat@14de3dab"
      ]
     },
     "execution_count": 11,
     "metadata": {},
     "output_type": "execute_result"
    }
   ],
   "source": [
    "// superclass\n",
    "class Animal {\n",
    "  def eat() : String = \"Eating...\"\n",
    "}\n",
    "\n",
    "// subclass\n",
    "class Cat extends Animal {\n",
    "  def meow() : String = \"Meow!\"\n",
    "}\n",
    "\n",
    "val myCat = new Cat\n",
    "println(myCat.eat()) // Prints Eating...\n",
    "println(myCat.meow()) // Prints Meow!"
   ]
  },
  {
   "cell_type": "markdown",
   "metadata": {},
   "source": [
    "#### Polymorphism"
   ]
  },
  {
   "cell_type": "markdown",
   "metadata": {},
   "source": [
    "Polymorphism allows objects to be treated as instances of their parent class, enabling the same method to perform different tasks based on the object type."
   ]
  },
  {
   "cell_type": "code",
   "execution_count": 12,
   "metadata": {},
   "outputs": [
    {
     "name": "stdout",
     "output_type": "stream",
     "text": [
      "Woof!\n"
     ]
    },
    {
     "data": {
      "text/plain": [
       "defined \u001b[32mclass\u001b[39m \u001b[36mAnimal\u001b[39m\n",
       "defined \u001b[32mclass\u001b[39m \u001b[36mDog\u001b[39m\n",
       "defined \u001b[32mfunction\u001b[39m \u001b[36mmakeSound\u001b[39m\n",
       "\u001b[36mmyDog\u001b[39m: \u001b[32mDog\u001b[39m = ammonite.$sess.cmd12$Helper$Dog@1157bafa"
      ]
     },
     "execution_count": 12,
     "metadata": {},
     "output_type": "execute_result"
    }
   ],
   "source": [
    "abstract class Animal {\n",
    "  def sound() : String\n",
    "}\n",
    "\n",
    "class Dog extends Animal {\n",
    "  def sound() : String = \"Woof!\"\n",
    "}\n",
    "\n",
    "def makeSound(animal : Animal) : String = animal.sound()\n",
    "\n",
    "val myDog = new Dog\n",
    "println(makeSound(myDog)) // Prints Woof!"
   ]
  },
  {
   "cell_type": "markdown",
   "metadata": {},
   "source": [
    "#### Method Overloading"
   ]
  },
  {
   "cell_type": "markdown",
   "metadata": {},
   "source": [
    "Method overloading allows multiple methods to have the same name with different parameter lists. This enables methods to perform similar functions with different types or numbers of parameters."
   ]
  },
  {
   "cell_type": "code",
   "execution_count": 13,
   "metadata": {},
   "outputs": [
    {
     "name": "stdout",
     "output_type": "stream",
     "text": [
      "5\n",
      "6.0\n"
     ]
    },
    {
     "data": {
      "text/plain": [
       "defined \u001b[32mclass\u001b[39m \u001b[36mMathOperations\u001b[39m\n",
       "\u001b[36mmath\u001b[39m: \u001b[32mMathOperations\u001b[39m = ammonite.$sess.cmd13$Helper$MathOperations@7d1b375b"
      ]
     },
     "execution_count": 13,
     "metadata": {},
     "output_type": "execute_result"
    }
   ],
   "source": [
    "class MathOperations {\n",
    "  def add(x : Int, y : Int) : Int = x + y\n",
    "  def add(x : Double, y : Double) : Double = x + y\n",
    "}\n",
    "\n",
    "val math = new MathOperations\n",
    "println(math.add(2, 3))       // Prints 5\n",
    "println(math.add(2.5, 3.5))   // Prints 6.0"
   ]
  },
  {
   "cell_type": "markdown",
   "metadata": {},
   "source": [
    "#### Method Overriding"
   ]
  },
  {
   "cell_type": "markdown",
   "metadata": {},
   "source": [
    "Method overriding allows a subclass to provide a specific implementation of a method that is already defined in its superclass. This is a key feature of polymorphism."
   ]
  },
  {
   "cell_type": "code",
   "execution_count": 14,
   "metadata": {},
   "outputs": [
    {
     "name": "stdout",
     "output_type": "stream",
     "text": [
      "Woof!\n"
     ]
    },
    {
     "data": {
      "text/plain": [
       "defined \u001b[32mclass\u001b[39m \u001b[36mAnimal\u001b[39m\n",
       "defined \u001b[32mclass\u001b[39m \u001b[36mDog\u001b[39m\n",
       "\u001b[36mmyDog\u001b[39m: \u001b[32mDog\u001b[39m = ammonite.$sess.cmd14$Helper$Dog@a4061d4"
      ]
     },
     "execution_count": 14,
     "metadata": {},
     "output_type": "execute_result"
    }
   ],
   "source": [
    "class Animal {\n",
    "  def sound() : String = \"Some sound\"\n",
    "}\n",
    "\n",
    "class Dog extends Animal {\n",
    "  override def sound() : String = \"Woof!\"\n",
    "}\n",
    "\n",
    "val myDog = new Dog\n",
    "println(myDog.sound()) // Prints Woof!"
   ]
  },
  {
   "cell_type": "markdown",
   "metadata": {},
   "source": [
    "#### Constructor Overloading"
   ]
  },
  {
   "cell_type": "markdown",
   "metadata": {},
   "source": [
    "Define multiple constructors in a class with different parameter lists"
   ]
  },
  {
   "cell_type": "code",
   "execution_count": 19,
   "metadata": {},
   "outputs": [
    {
     "name": "stdout",
     "output_type": "stream",
     "text": [
      "Name: Alice, Age: 30\n",
      "Name: Bob, Age: 10\n",
      "Name: John, Age: 10\n"
     ]
    },
    {
     "data": {
      "text/plain": [
       "defined \u001b[32mclass\u001b[39m \u001b[36mPerson\u001b[39m\n",
       "\u001b[36mperson1\u001b[39m: \u001b[32mPerson\u001b[39m = ammonite.$sess.cmd19$Helper$Person@7014e363\n",
       "\u001b[36mperson2\u001b[39m: \u001b[32mPerson\u001b[39m = ammonite.$sess.cmd19$Helper$Person@363921c\n",
       "\u001b[36mperson3\u001b[39m: \u001b[32mPerson\u001b[39m = ammonite.$sess.cmd19$Helper$Person@231469db"
      ]
     },
     "execution_count": 19,
     "metadata": {},
     "output_type": "execute_result"
    }
   ],
   "source": [
    "class Person(val name: String, val age: Int) {\n",
    "    \n",
    "  def this(name: String) = {\n",
    "    this(name, 10)\n",
    "  }\n",
    "\n",
    "  def this() = {\n",
    "    this(\"John\")\n",
    "  }\n",
    "}\n",
    "\n",
    "val person1 = new Person(\"Alice\", 30)\n",
    "val person2 = new Person(\"Bob\")\n",
    "val person3 = new Person()\n",
    "\n",
    "println(\"Name: \" + person1.name + \", Age: \" + person1.age)\n",
    "println(\"Name: \" + person2.name + \", Age: \" + person2.age)\n",
    "println(\"Name: \" + person3.name + \", Age: \" + person3.age)"
   ]
  },
  {
   "cell_type": "markdown",
   "metadata": {},
   "source": [
    "#### Operator overloading"
   ]
  },
  {
   "cell_type": "markdown",
   "metadata": {},
   "source": [
    "Operator overloading in Scala allows you to define the behavior of operators for custom types."
   ]
  },
  {
   "cell_type": "code",
   "execution_count": 24,
   "metadata": {},
   "outputs": [
    {
     "name": "stdout",
     "output_type": "stream",
     "text": [
      "2.5\n",
      "11.0\n",
      "4.0\n"
     ]
    },
    {
     "data": {
      "text/plain": [
       "defined \u001b[32mclass\u001b[39m \u001b[36mReverse\u001b[39m\n",
       "\u001b[32mimport \u001b[39m\u001b[36mscala.language.implicitConversions\u001b[39m\n",
       "\u001b[36mv1\u001b[39m: \u001b[32mDouble\u001b[39m = \u001b[32m2.5\u001b[39m\n",
       "\u001b[36mv2\u001b[39m: \u001b[32mDouble\u001b[39m = \u001b[32m11.0\u001b[39m\n",
       "\u001b[36mv3\u001b[39m: \u001b[32mDouble\u001b[39m = \u001b[32m4.0\u001b[39m"
      ]
     },
     "execution_count": 24,
     "metadata": {},
     "output_type": "execute_result"
    }
   ],
   "source": [
    "implicit class Reverse(val x: Double) {\n",
    "  def +(y: Double): Double = x-y\n",
    "\n",
    "  def -(y: Double): Double = x+y\n",
    "\n",
    "  def *+(y: Double): Double = x/y\n",
    "}\n",
    "\n",
    "import scala.language.implicitConversions\n",
    "\n",
    "val v1 = Reverse(5.0) + 2.5\n",
    "val v2 = Reverse(7.3) - 3.7\n",
    "val v3 = 28.0 *+ 7.0\n",
    "\n",
    "println(v1)\n",
    "println(v2)\n",
    "println(v3)"
   ]
  },
  {
   "cell_type": "markdown",
   "metadata": {},
   "source": [
    "#### Abstract Class"
   ]
  },
  {
   "cell_type": "markdown",
   "metadata": {},
   "source": [
    "An abstract class is a class that cannot be instantiated and may contain abstract methods (without implementations). It is used to provide a base for subclasses to implement specific functionality."
   ]
  },
  {
   "cell_type": "code",
   "execution_count": 15,
   "metadata": {},
   "outputs": [
    {
     "name": "stdout",
     "output_type": "stream",
     "text": [
      "35.0\n"
     ]
    },
    {
     "data": {
      "text/plain": [
       "defined \u001b[32mclass\u001b[39m \u001b[36mShape\u001b[39m\n",
       "defined \u001b[32mclass\u001b[39m \u001b[36mRectangle\u001b[39m\n",
       "\u001b[36mmyRectangle\u001b[39m: \u001b[32mRectangle\u001b[39m = ammonite.$sess.cmd15$Helper$Rectangle@52b01332"
      ]
     },
     "execution_count": 15,
     "metadata": {},
     "output_type": "execute_result"
    }
   ],
   "source": [
    "abstract class Shape {\n",
    "  def area() : Double\n",
    "}\n",
    "\n",
    "class Rectangle(val length : Double, val breadth : Double) extends Shape {\n",
    "  def area() : Double = length * breadth\n",
    "}\n",
    "\n",
    "val myRectangle = new Rectangle(5, 7)\n",
    "println(myRectangle.area())"
   ]
  },
  {
   "cell_type": "markdown",
   "metadata": {},
   "source": [
    "#### Method with default parameters"
   ]
  },
  {
   "cell_type": "code",
   "execution_count": 25,
   "metadata": {},
   "outputs": [
    {
     "name": "stdout",
     "output_type": "stream",
     "text": [
      "Hello, Guest!\n",
      "Hello, Alice!\n",
      "¡Hola, Bob!\n",
      "Bonjour, Guest!\n"
     ]
    },
    {
     "data": {
      "text/plain": [
       "defined \u001b[32mclass\u001b[39m \u001b[36mGreeting\u001b[39m\n",
       "\u001b[36mgreeter\u001b[39m: \u001b[32mGreeting\u001b[39m = ammonite.$sess.cmd25$Helper$Greeting@7f5b6207"
      ]
     },
     "execution_count": 25,
     "metadata": {},
     "output_type": "execute_result"
    }
   ],
   "source": [
    "class Greeting {\n",
    "  def sayHello(name: String = \"Guest\", language: String = \"English\"): String = {\n",
    "    language match {\n",
    "      case \"English\" => s\"Hello, $name!\"\n",
    "      case \"Spanish\" => s\"¡Hola, $name!\"\n",
    "      case \"French\" => s\"Bonjour, $name!\"\n",
    "      case _ => s\"Hello, $name!\"\n",
    "    }\n",
    "  }\n",
    "}\n",
    "\n",
    "val greeter = new Greeting()\n",
    "\n",
    "println(greeter.sayHello())\n",
    "println(greeter.sayHello(\"Alice\"))\n",
    "println(greeter.sayHello(\"Bob\", \"Spanish\"))\n",
    "println(greeter.sayHello(language = \"French\"))"
   ]
  },
  {
   "cell_type": "markdown",
   "metadata": {},
   "source": [
    "#### Companion Object"
   ]
  },
  {
   "cell_type": "code",
   "execution_count": null,
   "metadata": {},
   "outputs": [],
   "source": [
    "class Person(val name: String, val age: Int) {\n",
    "  def greet(): String = s\"Hello, my name is $name and I am $age years old.\"\n",
    "}\n",
    "\n",
    "object Person {\n",
    "  def apply(name: String, age: Int): Person = new Person(name, age)\n",
    "\n",
    "  def defaultPerson(): Person = new Person(\"John Doe\", 30)\n",
    "\n",
    "  val species: String = \"Homo sapiens\"\n",
    "}\n",
    "\n",
    "object Main extends App {\n",
    "  val person1 = Person(\"Alice\", 25)\n",
    "  val person2 = Person.defaultPerson()\n",
    "\n",
    "  println(person1.greet())\n",
    "  println(person2.greet())\n",
    "  println(s\"Species: ${Person.species}\")\n",
    "}"
   ]
  }
 ],
 "metadata": {
  "kernelspec": {
   "display_name": "Scala",
   "language": "scala",
   "name": "scala"
  },
  "language_info": {
   "codemirror_mode": "text/x-scala",
   "file_extension": ".sc",
   "mimetype": "text/x-scala",
   "name": "scala",
   "nbconvert_exporter": "script",
   "version": "2.13.14"
  }
 },
 "nbformat": 4,
 "nbformat_minor": 2
}
