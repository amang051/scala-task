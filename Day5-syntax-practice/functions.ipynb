{
 "cells": [
  {
   "cell_type": "code",
   "execution_count": 3,
   "metadata": {},
   "outputs": [
    {
     "name": "stdout",
     "output_type": "stream",
     "text": [
      "ammonite.$sess.cmd3$Helper$Animal1@158894ca\n",
      "Animal2()\n"
     ]
    },
    {
     "data": {
      "text/plain": [
       "defined \u001b[32mclass\u001b[39m \u001b[36mAnimal1\u001b[39m\n",
       "defined \u001b[32mclass\u001b[39m \u001b[36mAnimal2\u001b[39m\n",
       "\u001b[36ma1\u001b[39m: \u001b[32mAnimal1\u001b[39m = ammonite.$sess.cmd3$Helper$Animal1@158894ca\n",
       "\u001b[36ma2\u001b[39m: \u001b[32mAnimal2\u001b[39m = Animal2()"
      ]
     },
     "execution_count": 3,
     "metadata": {},
     "output_type": "execute_result"
    }
   ],
   "source": [
    "class Animal1 {\n",
    "    val name : String = \"Cat\"\n",
    "}\n",
    "\n",
    "case class Animal2() {\n",
    "    val name : String = \"Dog\"\n",
    "}\n",
    "\n",
    "val a1 = new Animal1\n",
    "val a2 = new Animal2\n",
    "\n",
    "println(a1)\n",
    "println(a2)"
   ]
  },
  {
   "cell_type": "code",
   "execution_count": 7,
   "metadata": {},
   "outputs": [
    {
     "name": "stdout",
     "output_type": "stream",
     "text": [
      "square\n"
     ]
    },
    {
     "data": {
      "text/plain": [
       "defined \u001b[32mclass\u001b[39m \u001b[36mShape\u001b[39m\n",
       "defined \u001b[32mclass\u001b[39m \u001b[36mSquare\u001b[39m\n",
       "\u001b[36msquare\u001b[39m: \u001b[32mSquare\u001b[39m = ammonite.$sess.cmd7$Helper$Square@43b5cd2a"
      ]
     },
     "execution_count": 7,
     "metadata": {},
     "output_type": "execute_result"
    }
   ],
   "source": [
    "class Shape(val name : String, val side : Int) {\n",
    "    def getName : String = name\n",
    "}\n",
    "\n",
    "class Square(name : String, side : Int) extends Shape(name, side) {\n",
    "    // name = \n",
    "    // def getName : String = name\n",
    "}\n",
    "\n",
    "val square = new Square(\"square\", 4)\n",
    "println(square.getName)"
   ]
  },
  {
   "cell_type": "code",
   "execution_count": 10,
   "metadata": {},
   "outputs": [
    {
     "name": "stderr",
     "output_type": "stream",
     "text": [
      "(console):5: '}' expected but '.' found.\n",
      "        this.v = v\n",
      "            ^"
     ]
    }
   ],
   "source": [
    "class A {\n",
    "    var v : String = \"abc\"\n",
    "    // print(\"a\")\n",
    "    def this(v : String) = {\n",
    "        \n",
    "    }\n",
    "}\n",
    "\n",
    "val a = new A(\"S\")\n",
    "// a.v = \"c\"\n",
    "println(a.v)"
   ]
  },
  {
   "cell_type": "code",
   "execution_count": 15,
   "metadata": {},
   "outputs": [
    {
     "name": "stdout",
     "output_type": "stream",
     "text": [
      "Converted: 42int 920\n",
      "500.5\n"
     ]
    },
    {
     "data": {
      "text/plain": [
       "\u001b[32mimport \u001b[39m\u001b[36mscala.language.implicitConversions\u001b[39m\n",
       "defined \u001b[32mfunction\u001b[39m \u001b[36mintToString\u001b[39m\n",
       "defined \u001b[32mfunction\u001b[39m \u001b[36mtakeAmount\u001b[39m\n",
       "defined \u001b[32mclass\u001b[39m \u001b[36mAmount\u001b[39m\n",
       "defined \u001b[32mfunction\u001b[39m \u001b[36mexecutable\u001b[39m"
      ]
     },
     "execution_count": 15,
     "metadata": {},
     "output_type": "execute_result"
    }
   ],
   "source": [
    "import scala.language.implicitConversions\n",
    "\n",
    "implicit def intToString(x : Int) : String = x.toString()\n",
    "implicit def takeAmount(x : Double) : Amount = new Amount(x)\n",
    "\n",
    "case class Amount(amount : Double)\n",
    "\n",
    "// val str : String = 42\n",
    "// var int : Int = 900\n",
    "// var money : Amount = 500.50\n",
    "// println(\"Converted: \" + str + \" int \" + (int+20))\n",
    "// println(money.amount)\n",
    "\n",
    "@main def executable : Unit = {\n",
    "    val str : String = 42\n",
    "    var int : Int = 900\n",
    "    var money : Amount = 500.50\n",
    "    println(\"Converted: \" + str + \"int \" + (int+20))\n",
    "    println(money.amount)\n",
    "}\n",
    "executable"
   ]
  },
  {
   "cell_type": "code",
   "execution_count": 17,
   "metadata": {},
   "outputs": [
    {
     "name": "stdout",
     "output_type": "stream",
     "text": [
      "400\n",
      "0-1000\n"
     ]
    },
    {
     "data": {
      "text/plain": [
       "defined \u001b[32mclass\u001b[39m \u001b[36mEnhancedInt\u001b[39m\n",
       "\u001b[36mresult\u001b[39m: \u001b[32mInt\u001b[39m = \u001b[32m400\u001b[39m"
      ]
     },
     "execution_count": 17,
     "metadata": {},
     "output_type": "execute_result"
    }
   ],
   "source": [
    "implicit class EnhancedInt(val x : Int) {\n",
    "    def #% (discount : Int) : Int = x - (x * discount / 100)\n",
    "    def rangeFinder() : String = {\n",
    "        if(x >= 0 && x <= 1000) {\n",
    "            return \"0-1000\"\n",
    "        } else if(x > 1000) {\n",
    "            return \"1000+\"\n",
    "        } else {\n",
    "            return \"negative\"\n",
    "        }\n",
    "    }\n",
    "}\n",
    "\n",
    "val result : Int = 500 #% 20\n",
    "\n",
    "println(result)\n",
    "println(result.rangeFinder())"
   ]
  },
  {
   "cell_type": "code",
   "execution_count": 19,
   "metadata": {},
   "outputs": [
    {
     "name": "stdout",
     "output_type": "stream",
     "text": [
      "5\n"
     ]
    },
    {
     "data": {
      "text/plain": [
       "defined \u001b[32mclass\u001b[39m \u001b[36mEnhancedAdd\u001b[39m\n",
       "\u001b[32mimport \u001b[39m\u001b[36mscala.language.implicitConversions\u001b[39m\n",
       "\u001b[36mresult\u001b[39m: \u001b[32mInt\u001b[39m = \u001b[32m5\u001b[39m"
      ]
     },
     "execution_count": 19,
     "metadata": {},
     "output_type": "execute_result"
    }
   ],
   "source": [
    "implicit class EnhancedAdd(val x : Int) {\n",
    "    def + (y : Int) : Int = x - y\n",
    "}\n",
    "// val result = 10 + 5\n",
    "// println(result)\n",
    "\n",
    "import scala.language.implicitConversions\n",
    "\n",
    "// Using the implicit conversion\n",
    "val result = new EnhancedAdd(10) + 5\n",
    "println(result) // Prints: 5 (10 - 5)"
   ]
  }
 ],
 "metadata": {
  "kernelspec": {
   "display_name": "Scala",
   "language": "scala",
   "name": "scala"
  },
  "language_info": {
   "codemirror_mode": "text/x-scala",
   "file_extension": ".sc",
   "mimetype": "text/x-scala",
   "name": "scala",
   "nbconvert_exporter": "script",
   "version": "2.13.14"
  }
 },
 "nbformat": 4,
 "nbformat_minor": 2
}
