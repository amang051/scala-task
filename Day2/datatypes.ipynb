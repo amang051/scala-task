{
 "cells": [
  {
   "cell_type": "markdown",
   "metadata": {},
   "source": [
    "## Datatypes in Scala\n",
    "\n",
    "* Boolean, Byte, Short, Char, Int, Double, Long, Float, String, Unit, Nothing, Any, AnyVal, AnyRef, Null"
   ]
  },
  {
   "cell_type": "code",
   "execution_count": 15,
   "metadata": {},
   "outputs": [
    {
     "name": "stdout",
     "output_type": "stream",
     "text": [
      "value: true\n"
     ]
    },
    {
     "data": {
      "text/plain": [
       "\u001b[36mbol\u001b[39m: \u001b[32mBoolean\u001b[39m = \u001b[32mtrue\u001b[39m"
      ]
     },
     "execution_count": 15,
     "metadata": {},
     "output_type": "execute_result"
    }
   ],
   "source": [
    "val bol : Boolean = true\n",
    "println(\"value: \" + bol)"
   ]
  },
  {
   "cell_type": "code",
   "execution_count": 16,
   "metadata": {},
   "outputs": [
    {
     "name": "stdout",
     "output_type": "stream",
     "text": [
      "value: 32\n"
     ]
    },
    {
     "data": {
      "text/plain": [
       "\u001b[36mbyte\u001b[39m: \u001b[32mByte\u001b[39m = \u001b[32m32\u001b[39m"
      ]
     },
     "execution_count": 16,
     "metadata": {},
     "output_type": "execute_result"
    }
   ],
   "source": [
    "val byte : Byte = 32\n",
    "println(\"value: \" + byte)"
   ]
  },
  {
   "cell_type": "code",
   "execution_count": 17,
   "metadata": {},
   "outputs": [
    {
     "name": "stdout",
     "output_type": "stream",
     "text": [
      "value: A\n"
     ]
    },
    {
     "data": {
      "text/plain": [
       "\u001b[36mchar\u001b[39m: \u001b[32mChar\u001b[39m = \u001b[32m'A'\u001b[39m"
      ]
     },
     "execution_count": 17,
     "metadata": {},
     "output_type": "execute_result"
    }
   ],
   "source": [
    "val char : Char = 'A'\n",
    "println(\"value: \" + char)"
   ]
  },
  {
   "cell_type": "code",
   "execution_count": 18,
   "metadata": {},
   "outputs": [
    {
     "name": "stdout",
     "output_type": "stream",
     "text": [
      "value: 12\n"
     ]
    },
    {
     "data": {
      "text/plain": [
       "\u001b[36mshort\u001b[39m: \u001b[32mShort\u001b[39m = \u001b[32m12\u001b[39m"
      ]
     },
     "execution_count": 18,
     "metadata": {},
     "output_type": "execute_result"
    }
   ],
   "source": [
    "val short : Short = 12\n",
    "println(\"value: \" + short)"
   ]
  },
  {
   "cell_type": "code",
   "execution_count": 19,
   "metadata": {},
   "outputs": [
    {
     "name": "stdout",
     "output_type": "stream",
     "text": [
      "value: 95\n"
     ]
    },
    {
     "data": {
      "text/plain": [
       "\u001b[36mint\u001b[39m: \u001b[32mInt\u001b[39m = \u001b[32m95\u001b[39m"
      ]
     },
     "execution_count": 19,
     "metadata": {},
     "output_type": "execute_result"
    }
   ],
   "source": [
    "val int : Int = 95\n",
    "println(\"value: \" + int)"
   ]
  },
  {
   "cell_type": "code",
   "execution_count": 20,
   "metadata": {},
   "outputs": [
    {
     "name": "stdout",
     "output_type": "stream",
     "text": [
      "value: 23.45\n"
     ]
    },
    {
     "data": {
      "text/plain": [
       "\u001b[36mdouble\u001b[39m: \u001b[32mDouble\u001b[39m = \u001b[32m23.45\u001b[39m"
      ]
     },
     "execution_count": 20,
     "metadata": {},
     "output_type": "execute_result"
    }
   ],
   "source": [
    "val double : Double = 23.45\n",
    "println(\"value: \" + double)"
   ]
  },
  {
   "cell_type": "code",
   "execution_count": 21,
   "metadata": {},
   "outputs": [
    {
     "name": "stdout",
     "output_type": "stream",
     "text": [
      "value: 123456789012\n"
     ]
    },
    {
     "data": {
      "text/plain": [
       "\u001b[36mlong\u001b[39m: \u001b[32mLong\u001b[39m = \u001b[32m123456789012L\u001b[39m"
      ]
     },
     "execution_count": 21,
     "metadata": {},
     "output_type": "execute_result"
    }
   ],
   "source": [
    "val long : Long = 123456789012L\n",
    "println(\"value: \" + long)"
   ]
  },
  {
   "cell_type": "code",
   "execution_count": 22,
   "metadata": {},
   "outputs": [
    {
     "name": "stdout",
     "output_type": "stream",
     "text": [
      "value: 1.23\n"
     ]
    },
    {
     "data": {
      "text/plain": [
       "\u001b[36mfloat\u001b[39m: \u001b[32mFloat\u001b[39m = \u001b[32m1.23F\u001b[39m"
      ]
     },
     "execution_count": 22,
     "metadata": {},
     "output_type": "execute_result"
    }
   ],
   "source": [
    "val float : Float = 1.23f\n",
    "println(\"value: \" + float)"
   ]
  },
  {
   "cell_type": "code",
   "execution_count": 23,
   "metadata": {},
   "outputs": [
    {
     "name": "stdout",
     "output_type": "stream",
     "text": [
      "value: Hello World\n"
     ]
    },
    {
     "data": {
      "text/plain": [
       "\u001b[36mstring\u001b[39m: \u001b[32mString\u001b[39m = \u001b[32m\"Hello World\"\u001b[39m"
      ]
     },
     "execution_count": 23,
     "metadata": {},
     "output_type": "execute_result"
    }
   ],
   "source": [
    "val string : String = \"Hello World\"\n",
    "println(\"value: \" + string)"
   ]
  },
  {
   "cell_type": "code",
   "execution_count": 24,
   "metadata": {},
   "outputs": [
    {
     "name": "stdout",
     "output_type": "stream",
     "text": [
      "value: ()\n"
     ]
    }
   ],
   "source": [
    "val unit : Unit = ()\n",
    "println(\"value: \" + unit)"
   ]
  },
  {
   "cell_type": "code",
   "execution_count": 25,
   "metadata": {},
   "outputs": [
    {
     "name": "stdout",
     "output_type": "stream",
     "text": [
      "value: Any Value\n"
     ]
    },
    {
     "data": {
      "text/plain": [
       "\u001b[36many\u001b[39m: \u001b[32mAny\u001b[39m = \u001b[32m\"Any Value\"\u001b[39m"
      ]
     },
     "execution_count": 25,
     "metadata": {},
     "output_type": "execute_result"
    }
   ],
   "source": [
    "val any : Any = \"Any Value\"\n",
    "println(\"value: \" + any)"
   ]
  },
  {
   "cell_type": "code",
   "execution_count": 26,
   "metadata": {},
   "outputs": [
    {
     "name": "stdout",
     "output_type": "stream",
     "text": [
      "value: 93\n"
     ]
    },
    {
     "data": {
      "text/plain": [
       "\u001b[36manyVal\u001b[39m: \u001b[32mAnyVal\u001b[39m = \u001b[32m93\u001b[39m"
      ]
     },
     "execution_count": 26,
     "metadata": {},
     "output_type": "execute_result"
    }
   ],
   "source": [
    "val anyVal : AnyVal = 93\n",
    "println(\"value: \" + anyVal)"
   ]
  },
  {
   "cell_type": "code",
   "execution_count": 27,
   "metadata": {},
   "outputs": [
    {
     "name": "stdout",
     "output_type": "stream",
     "text": [
      "value: Any Reference\n"
     ]
    },
    {
     "data": {
      "text/plain": [
       "\u001b[36manyRef\u001b[39m: \u001b[32mAnyRef\u001b[39m = \u001b[32m\"Any Reference\"\u001b[39m"
      ]
     },
     "execution_count": 27,
     "metadata": {},
     "output_type": "execute_result"
    }
   ],
   "source": [
    "val anyRef : AnyRef = \"Any Reference\"\n",
    "println(\"value: \" + anyRef)"
   ]
  },
  {
   "cell_type": "code",
   "execution_count": 28,
   "metadata": {},
   "outputs": [
    {
     "name": "stdout",
     "output_type": "stream",
     "text": [
      "value: null\n"
     ]
    },
    {
     "data": {
      "text/plain": [
       "\u001b[36mnullVal\u001b[39m: \u001b[32mNull\u001b[39m = \u001b[32mnull\u001b[39m"
      ]
     },
     "execution_count": 28,
     "metadata": {},
     "output_type": "execute_result"
    }
   ],
   "source": [
    "val nullVal : Null = null\n",
    "println(\"value: \" + nullVal)"
   ]
  }
 ],
 "metadata": {
  "kernelspec": {
   "display_name": "Scala",
   "language": "scala",
   "name": "scala"
  },
  "language_info": {
   "codemirror_mode": "text/x-scala",
   "file_extension": ".sc",
   "mimetype": "text/x-scala",
   "name": "scala",
   "nbconvert_exporter": "script",
   "version": "2.13.14"
  }
 },
 "nbformat": 4,
 "nbformat_minor": 2
}
