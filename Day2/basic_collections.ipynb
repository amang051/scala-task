{
 "cells": [
  {
   "cell_type": "markdown",
   "metadata": {},
   "source": [
    "# Basic Collections"
   ]
  },
  {
   "cell_type": "markdown",
   "metadata": {},
   "source": [
    "## 1. Immutable Collections"
   ]
  },
  {
   "cell_type": "markdown",
   "metadata": {},
   "source": [
    "### a. List"
   ]
  },
  {
   "cell_type": "code",
   "execution_count": 16,
   "metadata": {},
   "outputs": [
    {
     "name": "stdout",
     "output_type": "stream",
     "text": [
      "1\n",
      "List(2, 3, 4, 5)\n",
      "3\n",
      "List(0, 1, 2, 3, 4, 5)\n",
      "List(1, 2, 3, 4, 5, 6, 7)\n"
     ]
    },
    {
     "data": {
      "text/plain": [
       "\u001b[36mnumbers\u001b[39m: \u001b[32mList\u001b[39m[\u001b[32mInt\u001b[39m] = \u001b[33mList\u001b[39m(\u001b[32m1\u001b[39m, \u001b[32m2\u001b[39m, \u001b[32m3\u001b[39m, \u001b[32m4\u001b[39m, \u001b[32m5\u001b[39m)\n",
       "\u001b[36memptyList\u001b[39m: \u001b[32mList\u001b[39m[\u001b[32mInt\u001b[39m] = \u001b[33mList\u001b[39m()\n",
       "\u001b[36mnewList\u001b[39m: \u001b[32mList\u001b[39m[\u001b[32mInt\u001b[39m] = \u001b[33mList\u001b[39m(\u001b[32m0\u001b[39m, \u001b[32m1\u001b[39m, \u001b[32m2\u001b[39m, \u001b[32m3\u001b[39m, \u001b[32m4\u001b[39m, \u001b[32m5\u001b[39m)\n",
       "\u001b[36mcombined\u001b[39m: \u001b[32mList\u001b[39m[\u001b[32mInt\u001b[39m] = \u001b[33mList\u001b[39m(\u001b[32m1\u001b[39m, \u001b[32m2\u001b[39m, \u001b[32m3\u001b[39m, \u001b[32m4\u001b[39m, \u001b[32m5\u001b[39m, \u001b[32m6\u001b[39m, \u001b[32m7\u001b[39m)"
      ]
     },
     "execution_count": 16,
     "metadata": {},
     "output_type": "execute_result"
    }
   ],
   "source": [
    "// creating a list\n",
    "val numbers = List(1, 2, 3, 4, 5)\n",
    "val emptyList = List.empty[Int] // Empty list\n",
    "\n",
    "// accessing elements\n",
    "println(numbers.head)\n",
    "println(numbers.tail)\n",
    "println(numbers(2))\n",
    "\n",
    "// adding an element\n",
    "val newList = 0 :: numbers\n",
    "println(newList)\n",
    "\n",
    "// Concatenating lists\n",
    "val combined = numbers ++ List(6, 7)\n",
    "println(combined)"
   ]
  },
  {
   "cell_type": "markdown",
   "metadata": {},
   "source": [
    "### b. Set"
   ]
  },
  {
   "cell_type": "code",
   "execution_count": 17,
   "metadata": {},
   "outputs": [
    {
     "name": "stderr",
     "output_type": "stream",
     "text": [
      "cmd17.sc:6: method + in trait SetOps is deprecated (since 2.13.0): Consider requiring an immutable Set or fall back to Set.union\n",
      "val newFruits = fruits + \"orange\"\n",
      "                       ^\n"
     ]
    },
    {
     "name": "stdout",
     "output_type": "stream",
     "text": [
      "HashSet(banana, cherry, apple)\n",
      "HashSet(banana, orange, cherry, apple)\n",
      "true\n"
     ]
    },
    {
     "data": {
      "text/plain": [
       "\u001b[36mfruits\u001b[39m: \u001b[32mSet\u001b[39m[\u001b[32mString\u001b[39m] = \u001b[33mHashSet\u001b[39m(\u001b[32m\"banana\"\u001b[39m, \u001b[32m\"cherry\"\u001b[39m, \u001b[32m\"apple\"\u001b[39m)\n",
       "\u001b[36mnewFruits\u001b[39m: \u001b[32mSet\u001b[39m[\u001b[32mString\u001b[39m] = \u001b[33mHashSet\u001b[39m(\u001b[32m\"banana\"\u001b[39m, \u001b[32m\"orange\"\u001b[39m, \u001b[32m\"cherry\"\u001b[39m, \u001b[32m\"apple\"\u001b[39m)"
      ]
     },
     "execution_count": 17,
     "metadata": {},
     "output_type": "execute_result"
    }
   ],
   "source": [
    "// creating a set\n",
    "val fruits = Set(\"apple\", \"banana\", \"cherry\", \"apple\")\n",
    "println(fruits)\n",
    "\n",
    "// adding an element\n",
    "val newFruits = fruits + \"orange\"\n",
    "println(newFruits)\n",
    "\n",
    "//Check membership\n",
    "println(fruits.contains(\"banana\"))"
   ]
  },
  {
   "cell_type": "markdown",
   "metadata": {},
   "source": [
    "### c. Map"
   ]
  },
  {
   "cell_type": "code",
   "execution_count": 18,
   "metadata": {},
   "outputs": [
    {
     "name": "stderr",
     "output_type": "stream",
     "text": [
      "cmd18.sc:9: method + in trait MapOps is deprecated (since 2.13.0): Consider requiring an immutable Map or fall back to Map.concat.\n",
      "val newCapitals = capitals + (\"Italy\" -> \"Rome\")\n",
      "                           ^\n"
     ]
    },
    {
     "name": "stdout",
     "output_type": "stream",
     "text": [
      "HashMap(France -> Paris, Germany -> Berlin)\n",
      "Paris\n",
      "HashMap(Italy -> Rome, France -> Paris, Germany -> Berlin)\n"
     ]
    },
    {
     "data": {
      "text/plain": [
       "\u001b[36mcapitals\u001b[39m: \u001b[32mMap\u001b[39m[\u001b[32mString\u001b[39m, \u001b[32mString\u001b[39m] = \u001b[33mHashMap\u001b[39m(\n",
       "  \u001b[32m\"France\"\u001b[39m -> \u001b[32m\"Paris\"\u001b[39m,\n",
       "  \u001b[32m\"Germany\"\u001b[39m -> \u001b[32m\"Berlin\"\u001b[39m\n",
       ")\n",
       "\u001b[36mnewCapitals\u001b[39m: \u001b[32mMap\u001b[39m[\u001b[32mString\u001b[39m, \u001b[32mString\u001b[39m] = \u001b[33mHashMap\u001b[39m(\n",
       "  \u001b[32m\"Italy\"\u001b[39m -> \u001b[32m\"Rome\"\u001b[39m,\n",
       "  \u001b[32m\"France\"\u001b[39m -> \u001b[32m\"Paris\"\u001b[39m,\n",
       "  \u001b[32m\"Germany\"\u001b[39m -> \u001b[32m\"Berlin\"\u001b[39m\n",
       ")"
      ]
     },
     "execution_count": 18,
     "metadata": {},
     "output_type": "execute_result"
    }
   ],
   "source": [
    "// creating a map\n",
    "val capitals = Map(\"France\" -> \"Paris\", \"Germany\" -> \"Berlin\")\n",
    "println(capitals)\n",
    "\n",
    "// Accessing a value\n",
    "println(capitals(\"France\"))\n",
    "\n",
    "// Adding a key-value pair\n",
    "val newCapitals = capitals + (\"Italy\" -> \"Rome\")\n",
    "println(newCapitals)"
   ]
  },
  {
   "cell_type": "markdown",
   "metadata": {},
   "source": [
    "### d. Vector"
   ]
  },
  {
   "cell_type": "code",
   "execution_count": 19,
   "metadata": {},
   "outputs": [
    {
     "name": "stdout",
     "output_type": "stream",
     "text": [
      "Vector(1, 2, 3, 4, 5)\n",
      "3\n",
      "Vector(1, 2, 3, 4, 5, 6)\n"
     ]
    },
    {
     "data": {
      "text/plain": [
       "\u001b[36mvector\u001b[39m: \u001b[32mVector\u001b[39m[\u001b[32mInt\u001b[39m] = \u001b[33mVector\u001b[39m(\u001b[32m1\u001b[39m, \u001b[32m2\u001b[39m, \u001b[32m3\u001b[39m, \u001b[32m4\u001b[39m, \u001b[32m5\u001b[39m)\n",
       "\u001b[36mnewVector\u001b[39m: \u001b[32mVector\u001b[39m[\u001b[32mInt\u001b[39m] = \u001b[33mVector\u001b[39m(\u001b[32m1\u001b[39m, \u001b[32m2\u001b[39m, \u001b[32m3\u001b[39m, \u001b[32m4\u001b[39m, \u001b[32m5\u001b[39m, \u001b[32m6\u001b[39m)"
      ]
     },
     "execution_count": 19,
     "metadata": {},
     "output_type": "execute_result"
    }
   ],
   "source": [
    "// creating a vector\n",
    "val vector = Vector(1, 2, 3, 4, 5)\n",
    "println(vector)\n",
    "\n",
    "// accessing elements\n",
    "println(vector(2))\n",
    "\n",
    "// Adding an element\n",
    "val newVector = vector :+ 6\n",
    "println(newVector)"
   ]
  },
  {
   "cell_type": "markdown",
   "metadata": {},
   "source": [
    "## 2. Mutable Collections"
   ]
  },
  {
   "cell_type": "markdown",
   "metadata": {},
   "source": [
    "### a. ArrayBuffer"
   ]
  },
  {
   "cell_type": "code",
   "execution_count": 20,
   "metadata": {},
   "outputs": [
    {
     "name": "stdout",
     "output_type": "stream",
     "text": [
      "ArrayBuffer(1, 2, 3)\n",
      "ArrayBuffer(1, 2, 3, 4)\n",
      "ArrayBuffer(10, 2, 3, 4)\n",
      "ArrayBuffer(10, 3, 4)\n",
      "10\n",
      "3\n",
      "4\n"
     ]
    },
    {
     "data": {
      "text/plain": [
       "\u001b[32mimport \u001b[39m\u001b[36mscala.collection.mutable.ArrayBuffer\u001b[39m\n",
       "\u001b[36mbuffer\u001b[39m: \u001b[32mArrayBuffer\u001b[39m[\u001b[32mInt\u001b[39m] = \u001b[33mArrayBuffer\u001b[39m(\u001b[32m10\u001b[39m, \u001b[32m3\u001b[39m, \u001b[32m4\u001b[39m)\n",
       "\u001b[36mres20_3\u001b[39m: \u001b[32mArrayBuffer\u001b[39m[\u001b[32mInt\u001b[39m] = \u001b[33mArrayBuffer\u001b[39m(\u001b[32m10\u001b[39m, \u001b[32m3\u001b[39m, \u001b[32m4\u001b[39m)\n",
       "\u001b[36mres20_7\u001b[39m: \u001b[32mArrayBuffer\u001b[39m[\u001b[32mInt\u001b[39m] = \u001b[33mArrayBuffer\u001b[39m(\u001b[32m10\u001b[39m, \u001b[32m3\u001b[39m, \u001b[32m4\u001b[39m)"
      ]
     },
     "execution_count": 20,
     "metadata": {},
     "output_type": "execute_result"
    }
   ],
   "source": [
    "import scala.collection.mutable.ArrayBuffer\n",
    "\n",
    "// creating an ArrayBuffer\n",
    "val buffer = ArrayBuffer(1, 2, 3)\n",
    "println(buffer)\n",
    "\n",
    "// adding an element\n",
    "buffer += 4\n",
    "println(buffer)\n",
    "\n",
    "// updating an element\n",
    "buffer(0) = 10\n",
    "println(buffer)\n",
    "\n",
    "// Removing an element\n",
    "buffer -= 2\n",
    "println(buffer)\n",
    "\n",
    "// Iterating\n",
    "buffer.foreach(println)"
   ]
  },
  {
   "cell_type": "markdown",
   "metadata": {},
   "source": [
    "### b. Mutable Set"
   ]
  },
  {
   "cell_type": "code",
   "execution_count": 21,
   "metadata": {},
   "outputs": [
    {
     "name": "stdout",
     "output_type": "stream",
     "text": [
      "HashSet(banana, apple)\n",
      "HashSet(banana, cherry, apple)\n",
      "HashSet(cherry, apple)\n"
     ]
    },
    {
     "data": {
      "text/plain": [
       "\u001b[32mimport \u001b[39m\u001b[36mscala.collection.mutable.Set\u001b[39m\n",
       "\u001b[36mmutableFruits\u001b[39m: \u001b[32mSet\u001b[39m[\u001b[32mString\u001b[39m] = \u001b[33mHashSet\u001b[39m(\u001b[32m\"cherry\"\u001b[39m, \u001b[32m\"apple\"\u001b[39m)\n",
       "\u001b[36mres21_3\u001b[39m: \u001b[32mSet\u001b[39m[\u001b[32mString\u001b[39m] = \u001b[33mHashSet\u001b[39m(\u001b[32m\"cherry\"\u001b[39m, \u001b[32m\"apple\"\u001b[39m)\n",
       "\u001b[36mres21_5\u001b[39m: \u001b[32mSet\u001b[39m[\u001b[32mString\u001b[39m] = \u001b[33mHashSet\u001b[39m(\u001b[32m\"cherry\"\u001b[39m, \u001b[32m\"apple\"\u001b[39m)"
      ]
     },
     "execution_count": 21,
     "metadata": {},
     "output_type": "execute_result"
    }
   ],
   "source": [
    "import scala.collection.mutable.Set\n",
    "\n",
    "// creating\n",
    "val mutableFruits = Set(\"apple\", \"banana\")\n",
    "println(mutableFruits)\n",
    "\n",
    "// adding element\n",
    "mutableFruits += \"cherry\"\n",
    "println(mutableFruits)\n",
    "\n",
    "// removing element\n",
    "mutableFruits -= \"banana\"\n",
    "println(mutableFruits)"
   ]
  },
  {
   "cell_type": "markdown",
   "metadata": {},
   "source": [
    "### c. Mutable Map"
   ]
  },
  {
   "cell_type": "code",
   "execution_count": 22,
   "metadata": {},
   "outputs": [
    {
     "name": "stdout",
     "output_type": "stream",
     "text": [
      "HashMap(France -> Paris)\n",
      "HashMap(France -> Paris, Germany -> Berlin)\n",
      "HashMap(Germany -> Berlin)\n"
     ]
    },
    {
     "data": {
      "text/plain": [
       "\u001b[32mimport \u001b[39m\u001b[36mscala.collection.mutable.Map\u001b[39m\n",
       "\u001b[36mmutableCapitals\u001b[39m: \u001b[32mMap\u001b[39m[\u001b[32mString\u001b[39m, \u001b[32mString\u001b[39m] = \u001b[33mHashMap\u001b[39m(\u001b[32m\"Germany\"\u001b[39m -> \u001b[32m\"Berlin\"\u001b[39m)\n",
       "\u001b[36mres22_5\u001b[39m: \u001b[32mMap\u001b[39m[\u001b[32mString\u001b[39m, \u001b[32mString\u001b[39m] = \u001b[33mHashMap\u001b[39m(\u001b[32m\"Germany\"\u001b[39m -> \u001b[32m\"Berlin\"\u001b[39m)"
      ]
     },
     "execution_count": 22,
     "metadata": {},
     "output_type": "execute_result"
    }
   ],
   "source": [
    "import scala.collection.mutable.Map\n",
    "\n",
    "// creating\n",
    "val mutableCapitals = Map(\"France\" -> \"Paris\")\n",
    "println(mutableCapitals)\n",
    "\n",
    "// adding key-value pair\n",
    "mutableCapitals(\"Germany\") = \"Berlin\"\n",
    "println(mutableCapitals)\n",
    "\n",
    "// removing key-value pair\n",
    "mutableCapitals -= \"France\"\n",
    "println(mutableCapitals)"
   ]
  }
 ],
 "metadata": {
  "kernelspec": {
   "display_name": "Scala",
   "language": "scala",
   "name": "scala"
  },
  "language_info": {
   "codemirror_mode": "text/x-scala",
   "file_extension": ".sc",
   "mimetype": "text/x-scala",
   "name": "scala",
   "nbconvert_exporter": "script",
   "version": "2.13.14"
  }
 },
 "nbformat": 4,
 "nbformat_minor": 2
}
