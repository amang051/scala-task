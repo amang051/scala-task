{
 "cells": [
  {
   "cell_type": "markdown",
   "metadata": {},
   "source": [
    "# Literals & variables"
   ]
  },
  {
   "cell_type": "markdown",
   "metadata": {},
   "source": [
    "## Literals\n",
    "### When a constant value is assigned to a variable it is called literal.\n",
    "### Types of literals:"
   ]
  },
  {
   "cell_type": "markdown",
   "metadata": {
    "vscode": {
     "languageId": "raw"
    }
   },
   "source": [
    "### Integral Literal - usually of type Int or Long\n",
    "* 0\n",
    "* 056\n",
    "* 74 \n",
    "* 0xFFFFFFFF \n",
    "* 0789L"
   ]
  },
  {
   "cell_type": "markdown",
   "metadata": {},
   "source": [
    "### Floating Point Literal - usually of type Double or Float\n",
    "* 0.0 \n",
    "* 1e30f \n",
    "* 3.14159f \n",
    "* 1.0e100\n",
    "* .1"
   ]
  },
  {
   "cell_type": "markdown",
   "metadata": {},
   "source": [
    "### Boolean Literal\n",
    "* true\n",
    "* false"
   ]
  },
  {
   "cell_type": "markdown",
   "metadata": {},
   "source": [
    "### Symbol Literal\n",
    "* 'x is a shorthand for the expression scala.Symbol(\"x\")"
   ]
  },
  {
   "cell_type": "markdown",
   "metadata": {},
   "source": [
    "### Character Literal - single character enclosed in quotes\n",
    "* 'a' \n",
    "* '\\u0032'\n",
    "* '\\n'\n",
    "* '\\t'"
   ]
  },
  {
   "cell_type": "markdown",
   "metadata": {},
   "source": [
    "### String Literal - sequence of characters in double quotes\n",
    "* \"Hello World!\"\n",
    "* \"This string contains a \\\" character.\""
   ]
  },
  {
   "cell_type": "markdown",
   "metadata": {},
   "source": [
    "### Multi-Line String Literal - sequence of characters in triple quotes\n",
    "* \"\"\"Hello world!\"\"\""
   ]
  },
  {
   "cell_type": "markdown",
   "metadata": {},
   "source": [
    "## Variables"
   ]
  },
  {
   "cell_type": "markdown",
   "metadata": {},
   "source": [
    "### var\n",
    "* When a variable is declared using var keyword it's value can be changed and it is called mutable variable"
   ]
  },
  {
   "cell_type": "code",
   "execution_count": 7,
   "metadata": {},
   "outputs": [
    {
     "name": "stdout",
     "output_type": "stream",
     "text": [
      "5\n",
      "10\n"
     ]
    },
    {
     "data": {
      "text/html": [
       "<div class=\"jp-RenderedText\">\n",
       "<pre><code><span style=\"color: rgb(0, 187, 187)\"><span class=\"ansi-cyan-fg\">newVar</span></span>: <span style=\"color: rgb(0, 187, 0)\"><span class=\"ansi-green-fg\">Int</span></span> = <span style=\"color: rgb(0, 187, 0)\"><span class=\"ansi-green-fg\">10</span></span></code></pre>\n",
       "</div>"
      ],
      "text/plain": [
       "\u001b[36mnewVar\u001b[39m: \u001b[32mInt\u001b[39m = \u001b[32m10\u001b[39m"
      ]
     },
     "metadata": {},
     "output_type": "display_data"
    }
   ],
   "source": [
    "var newVar : Int = 5\n",
    "println(newVar)\n",
    "\n",
    "newVar = 10\n",
    "println(newVar)"
   ]
  },
  {
   "cell_type": "markdown",
   "metadata": {},
   "source": [
    "### val\n",
    "* When a variable is declared using val keyword it's value cannot be changed and it is called immutable variable"
   ]
  },
  {
   "cell_type": "code",
   "execution_count": 8,
   "metadata": {},
   "outputs": [
    {
     "name": "stdout",
     "output_type": "stream",
     "text": [
      "5\n"
     ]
    },
    {
     "data": {
      "text/plain": [
       "\u001b[36mnewVal\u001b[39m: \u001b[32mInt\u001b[39m = \u001b[32m5\u001b[39m"
      ]
     },
     "execution_count": 8,
     "metadata": {},
     "output_type": "execute_result"
    }
   ],
   "source": [
    "val newVal : Int = 5\n",
    "println(newVal)\n",
    "\n",
    "//newVal = 10  //this line of code gives compile-time error\n",
    "//println(newVal)"
   ]
  },
  {
   "cell_type": "markdown",
   "metadata": {},
   "source": [
    "### Syntax for declaring variable\n",
    "* val newVar : String = \"Hello world\"\n",
    "* var newVar = 10"
   ]
  },
  {
   "cell_type": "code",
   "execution_count": 9,
   "metadata": {},
   "outputs": [
    {
     "name": "stdout",
     "output_type": "stream",
     "text": [
      "Hello world\n",
      "10\n",
      "25\n",
      "Hello\n"
     ]
    },
    {
     "data": {
      "text/html": [
       "<div class=\"jp-RenderedText\">\n",
       "<pre><code><span style=\"color: rgb(0, 187, 187)\"><span class=\"ansi-cyan-fg\">newVar1</span></span>: <span style=\"color: rgb(0, 187, 0)\"><span class=\"ansi-green-fg\">String</span></span> = <span style=\"color: rgb(0, 187, 0)\"><span class=\"ansi-green-fg\">&quot;Hello world&quot;</span></span>\n",
       "<span style=\"color: rgb(0, 187, 187)\"><span class=\"ansi-cyan-fg\">newVar2</span></span>: <span style=\"color: rgb(0, 187, 0)\"><span class=\"ansi-green-fg\">Int</span></span> = <span style=\"color: rgb(0, 187, 0)\"><span class=\"ansi-green-fg\">10</span></span>\n",
       "<span style=\"color: rgb(0, 187, 187)\"><span class=\"ansi-cyan-fg\">myVar1</span></span>: <span style=\"color: rgb(0, 187, 0)\"><span class=\"ansi-green-fg\">Int</span></span> = <span style=\"color: rgb(0, 187, 0)\"><span class=\"ansi-green-fg\">25</span></span>\n",
       "<span style=\"color: rgb(0, 187, 187)\"><span class=\"ansi-cyan-fg\">myVar2</span></span>: <span style=\"color: rgb(0, 187, 0)\"><span class=\"ansi-green-fg\">String</span></span> = <span style=\"color: rgb(0, 187, 0)\"><span class=\"ansi-green-fg\">&quot;Hello&quot;</span></span></code></pre>\n",
       "</div>"
      ],
      "text/plain": [
       "\u001b[36mnewVar1\u001b[39m: \u001b[32mString\u001b[39m = \u001b[32m\"Hello world\"\u001b[39m\n",
       "\u001b[36mnewVar2\u001b[39m: \u001b[32mInt\u001b[39m = \u001b[32m10\u001b[39m\n",
       "\u001b[36mmyVar1\u001b[39m: \u001b[32mInt\u001b[39m = \u001b[32m25\u001b[39m\n",
       "\u001b[36mmyVar2\u001b[39m: \u001b[32mString\u001b[39m = \u001b[32m\"Hello\"\u001b[39m"
      ]
     },
     "metadata": {},
     "output_type": "display_data"
    }
   ],
   "source": [
    "val newVar1 : String = \"Hello world\"\n",
    "println(newVar1)\n",
    "\n",
    "var newVar2 = 10 //newVar2 will become Int type variable\n",
    "println(newVar2)\n",
    "\n",
    "var (myVar1: Int, myVar2: String) = (25, \"Hello\") //assigning multiple values\n",
    "println(myVar1)\n",
    "println(myVar2)"
   ]
  }
 ],
 "metadata": {
  "kernelspec": {
   "display_name": "Scala",
   "language": "scala",
   "name": "scala"
  },
  "language_info": {
   "codemirror_mode": "text/x-scala",
   "file_extension": ".sc",
   "mimetype": "text/x-scala",
   "name": "scala",
   "nbconvert_exporter": "script",
   "version": "2.13.14"
  }
 },
 "nbformat": 4,
 "nbformat_minor": 2
}
