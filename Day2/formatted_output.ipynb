{
 "cells": [
  {
   "cell_type": "markdown",
   "metadata": {},
   "source": [
    "## Formatted Output"
   ]
  },
  {
   "cell_type": "markdown",
   "metadata": {},
   "source": [
    "* %d for integer\n",
    "* %f for double\n",
    "* %c for character\n",
    "* %s for string"
   ]
  },
  {
   "cell_type": "code",
   "execution_count": 1,
   "metadata": {},
   "outputs": [
    {
     "name": "stdout",
     "output_type": "stream",
     "text": [
      "We are going to format a string by adding float value: 2.200000 along with integer value 5. Now we will add a string Hello and a character()\n"
     ]
    },
    {
     "data": {
      "text/plain": [
       "\u001b[36mfloatVal\u001b[39m: \u001b[32mDouble\u001b[39m = \u001b[32m2.2\u001b[39m\n",
       "\u001b[36mintVal\u001b[39m: \u001b[32mInt\u001b[39m = \u001b[32m5\u001b[39m\n",
       "\u001b[36mstringVal\u001b[39m: \u001b[32mString\u001b[39m = \u001b[32m\"Hello\"\u001b[39m\n",
       "\u001b[36mcharVal\u001b[39m: \u001b[32mChar\u001b[39m = \u001b[32m't'\u001b[39m"
      ]
     },
     "execution_count": 1,
     "metadata": {},
     "output_type": "execute_result"
    }
   ],
   "source": [
    "val floatVal = 2.2\n",
    "val intVal = 5\n",
    "val stringVal = \"Hello\"\n",
    "val charVal = 't'\n",
    "\n",
    "val formattedString = printf(\"We are going to format a string by adding float value: %f along with integer value %d. \" + \"Now we will add a string %s and a charac%cer\", floatVal, intVal, stringVal, charVal);\n",
    "println(formattedString)"
   ]
  }
 ],
 "metadata": {
  "kernelspec": {
   "display_name": "Scala",
   "language": "scala",
   "name": "scala"
  },
  "language_info": {
   "codemirror_mode": "text/x-scala",
   "file_extension": ".sc",
   "mimetype": "text/x-scala",
   "name": "scala",
   "nbconvert_exporter": "script",
   "version": "2.13.14"
  }
 },
 "nbformat": 4,
 "nbformat_minor": 2
}
