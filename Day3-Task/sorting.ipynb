{
 "cells": [
  {
   "cell_type": "markdown",
   "metadata": {},
   "source": [
    "# Array Related Tasks\n",
    "\n",
    "#### Implement functions that takes Array as parameter and does the following activities on the original passed array\n",
    "* Bubble sort\n",
    "* Insertion sort\n",
    "* Quick sort\n",
    "* Heap sort\n",
    "* Selection sort"
   ]
  },
  {
   "cell_type": "markdown",
   "metadata": {},
   "source": [
    "### Bubble Sort"
   ]
  },
  {
   "cell_type": "code",
   "execution_count": 11,
   "metadata": {},
   "outputs": [
    {
     "name": "stdout",
     "output_type": "stream",
     "text": [
      "1, 2, 3, 4, 4, 5, 6, 6, 7, 9, "
     ]
    },
    {
     "data": {
      "text/plain": [
       "defined \u001b[32mfunction\u001b[39m \u001b[36mbubbleSort\u001b[39m\n",
       "\u001b[36marr\u001b[39m: \u001b[32mArray\u001b[39m[\u001b[32mInt\u001b[39m] = \u001b[33mArray\u001b[39m(\u001b[32m1\u001b[39m, \u001b[32m2\u001b[39m, \u001b[32m3\u001b[39m, \u001b[32m4\u001b[39m, \u001b[32m4\u001b[39m, \u001b[32m5\u001b[39m, \u001b[32m6\u001b[39m, \u001b[32m6\u001b[39m, \u001b[32m7\u001b[39m, \u001b[32m9\u001b[39m)"
      ]
     },
     "execution_count": 11,
     "metadata": {},
     "output_type": "execute_result"
    }
   ],
   "source": [
    "def bubbleSort(arr : Array[Int]) : Unit = {\n",
    "    var length : Int = 0\n",
    "    for(element <- arr) {\n",
    "        length += 1\n",
    "    }\n",
    "    for(i <- 0 to length - 1; j<- 0 to length-1) {\n",
    "        if(arr(i) < arr(j)) {\n",
    "            var temp = arr(i)\n",
    "            arr(i) = arr(j)\n",
    "            arr(j) = temp\n",
    "        }\n",
    "    }\n",
    "}\n",
    "\n",
    "val arr = Array(1,4,5,3,4,6,2,6,9,7)\n",
    "bubbleSort(arr)\n",
    "arr.foreach(e => print(s\"$e, \"))"
   ]
  },
  {
   "cell_type": "markdown",
   "metadata": {},
   "source": [
    "### Insertion Sort"
   ]
  },
  {
   "cell_type": "code",
   "execution_count": 12,
   "metadata": {},
   "outputs": [
    {
     "name": "stdout",
     "output_type": "stream",
     "text": [
      "1, 2, 3, 4, 4, 5, 6, 6, 7, 9, "
     ]
    },
    {
     "data": {
      "text/plain": [
       "defined \u001b[32mfunction\u001b[39m \u001b[36minsertionSort\u001b[39m\n",
       "\u001b[36marr\u001b[39m: \u001b[32mArray\u001b[39m[\u001b[32mInt\u001b[39m] = \u001b[33mArray\u001b[39m(\u001b[32m1\u001b[39m, \u001b[32m2\u001b[39m, \u001b[32m3\u001b[39m, \u001b[32m4\u001b[39m, \u001b[32m4\u001b[39m, \u001b[32m5\u001b[39m, \u001b[32m6\u001b[39m, \u001b[32m6\u001b[39m, \u001b[32m7\u001b[39m, \u001b[32m9\u001b[39m)"
      ]
     },
     "execution_count": 12,
     "metadata": {},
     "output_type": "execute_result"
    }
   ],
   "source": [
    "def insertionSort(arr : Array[Int]) : Unit = {\n",
    "    var length : Int = 0\n",
    "    for(element <- arr) {\n",
    "        length += 1\n",
    "    }\n",
    "    for(i <- 1 to length - 1) {\n",
    "        var j = i-1\n",
    "        val value = arr(i)\n",
    "        while(j >= 0 && arr(j) > value) {\n",
    "            arr(j+1) = arr(j)\n",
    "            j -= 1\n",
    "        }\n",
    "        arr(j+1) = value\n",
    "    }\n",
    "}\n",
    "\n",
    "val arr = Array(1,4,5,3,4,6,2,6,9,7)\n",
    "insertionSort(arr)\n",
    "arr.foreach(e => print(s\"$e, \"))"
   ]
  },
  {
   "cell_type": "markdown",
   "metadata": {},
   "source": [
    "### Quick Sort"
   ]
  },
  {
   "cell_type": "code",
   "execution_count": 18,
   "metadata": {},
   "outputs": [
    {
     "name": "stdout",
     "output_type": "stream",
     "text": [
      "1, 2, 3, 4, 4, 5, 6, 6, 7, 9, "
     ]
    },
    {
     "data": {
      "text/plain": [
       "defined \u001b[32mfunction\u001b[39m \u001b[36mquickSort\u001b[39m\n",
       "\u001b[36marr\u001b[39m: \u001b[32mArray\u001b[39m[\u001b[32mInt\u001b[39m] = \u001b[33mArray\u001b[39m(\u001b[32m1\u001b[39m, \u001b[32m4\u001b[39m, \u001b[32m5\u001b[39m, \u001b[32m3\u001b[39m, \u001b[32m4\u001b[39m, \u001b[32m6\u001b[39m, \u001b[32m2\u001b[39m, \u001b[32m6\u001b[39m, \u001b[32m9\u001b[39m, \u001b[32m7\u001b[39m)\n",
       "\u001b[36msortedArr\u001b[39m: \u001b[32mArray\u001b[39m[\u001b[32mInt\u001b[39m] = \u001b[33mArray\u001b[39m(\u001b[32m1\u001b[39m, \u001b[32m2\u001b[39m, \u001b[32m3\u001b[39m, \u001b[32m4\u001b[39m, \u001b[32m4\u001b[39m, \u001b[32m5\u001b[39m, \u001b[32m6\u001b[39m, \u001b[32m6\u001b[39m, \u001b[32m7\u001b[39m, \u001b[32m9\u001b[39m)"
      ]
     },
     "execution_count": 18,
     "metadata": {},
     "output_type": "execute_result"
    }
   ],
   "source": [
    "def quickSort(arr : Array[Int]) : Array[Int] = {\n",
    "    if(arr.length <= 1) return arr\n",
    "    val pivot = arr(0)\n",
    "    val leftArr = arr.filter(num => num <= pivot).tail\n",
    "    val rightArr = arr.filter(num => num > pivot)\n",
    "\n",
    "    return quickSort(leftArr) ++ Array(pivot) ++ quickSort(rightArr)\n",
    "}\n",
    "\n",
    "val arr = Array(1,4,5,3,4,6,2,6,9,7)\n",
    "val sortedArr = quickSort(arr)\n",
    "sortedArr.foreach(e => print(s\"$e, \"))"
   ]
  },
  {
   "cell_type": "markdown",
   "metadata": {},
   "source": [
    "### Heap Sort"
   ]
  },
  {
   "cell_type": "code",
   "execution_count": 14,
   "metadata": {},
   "outputs": [
    {
     "name": "stdout",
     "output_type": "stream",
     "text": [
      "1, 2, 3, 4, 4, 5, 6, 6, 7, 9, "
     ]
    },
    {
     "data": {
      "text/plain": [
       "defined \u001b[32mfunction\u001b[39m \u001b[36mheapSort\u001b[39m\n",
       "\u001b[36marr\u001b[39m: \u001b[32mArray\u001b[39m[\u001b[32mInt\u001b[39m] = \u001b[33mArray\u001b[39m(\u001b[32m1\u001b[39m, \u001b[32m2\u001b[39m, \u001b[32m3\u001b[39m, \u001b[32m4\u001b[39m, \u001b[32m4\u001b[39m, \u001b[32m5\u001b[39m, \u001b[32m6\u001b[39m, \u001b[32m6\u001b[39m, \u001b[32m7\u001b[39m, \u001b[32m9\u001b[39m)"
      ]
     },
     "execution_count": 14,
     "metadata": {},
     "output_type": "execute_result"
    }
   ],
   "source": [
    "def heapSort(arr : Array[Int]) : Unit = {\n",
    "    def heapify(arr : Array[Int], n : Int, i : Int) : Unit = {\n",
    "        var maxIdx = i\n",
    "        var leftIdx = 2*i + 1\n",
    "        var rightIdx = 2*i + 2\n",
    "\n",
    "        if(leftIdx < n && arr(leftIdx) > arr(maxIdx)) {\n",
    "            maxIdx = leftIdx\n",
    "        }\n",
    "        if(rightIdx < n && arr(rightIdx) > arr(maxIdx)) {\n",
    "            maxIdx = rightIdx\n",
    "        }\n",
    "\n",
    "        if(maxIdx != i) {\n",
    "            var temp = arr(i)\n",
    "            arr(i) = arr(maxIdx)\n",
    "            arr(maxIdx) = temp\n",
    "            heapify(arr, n, maxIdx)\n",
    "        }\n",
    "    }\n",
    "    val n = arr.length\n",
    "    for(i <- (n/2) - 1 to 0 by -1) {\n",
    "        heapify(arr, n, i)\n",
    "    }\n",
    "    for(i <- n - 1 to 0 by -1) {\n",
    "        var temp = arr(i)\n",
    "        arr(i) = arr(0)\n",
    "        arr(0) = temp\n",
    "        heapify(arr, i, 0)\n",
    "    }\n",
    "}\n",
    "\n",
    "val arr = Array(1,4,5,3,4,6,2,6,9,7)\n",
    "heapSort(arr)\n",
    "arr.foreach(e => print(s\"$e, \"))"
   ]
  },
  {
   "cell_type": "markdown",
   "metadata": {},
   "source": [
    "### Selection Sort"
   ]
  },
  {
   "cell_type": "code",
   "execution_count": 15,
   "metadata": {},
   "outputs": [
    {
     "name": "stdout",
     "output_type": "stream",
     "text": [
      "1, 2, 3, 4, 4, 5, 6, 6, 7, 9, "
     ]
    },
    {
     "data": {
      "text/plain": [
       "defined \u001b[32mfunction\u001b[39m \u001b[36mselectionSort\u001b[39m\n",
       "\u001b[36marr\u001b[39m: \u001b[32mArray\u001b[39m[\u001b[32mInt\u001b[39m] = \u001b[33mArray\u001b[39m(\u001b[32m1\u001b[39m, \u001b[32m2\u001b[39m, \u001b[32m3\u001b[39m, \u001b[32m4\u001b[39m, \u001b[32m4\u001b[39m, \u001b[32m5\u001b[39m, \u001b[32m6\u001b[39m, \u001b[32m6\u001b[39m, \u001b[32m7\u001b[39m, \u001b[32m9\u001b[39m)"
      ]
     },
     "execution_count": 15,
     "metadata": {},
     "output_type": "execute_result"
    }
   ],
   "source": [
    "def selectionSort(arr : Array[Int]) : Unit = {\n",
    "    var length : Int = 0\n",
    "    for(element <- arr) {\n",
    "        length += 1\n",
    "    }\n",
    "    for(i <- 0 to length - 2) {\n",
    "        var minIdx = i\n",
    "        for(j <- i+1 to length-1) {\n",
    "            if(arr(j) < arr(minIdx)) {\n",
    "                minIdx = j\n",
    "            }\n",
    "        }\n",
    "        var temp = arr(i)\n",
    "        arr(i) = arr(minIdx)\n",
    "        arr(minIdx) = temp\n",
    "    }\n",
    "}\n",
    "\n",
    "val arr = Array(1,4,5,3,4,6,2,6,9,7)\n",
    "selectionSort(arr)\n",
    "arr.foreach(e => print(s\"$e, \"))"
   ]
  }
 ],
 "metadata": {
  "kernelspec": {
   "display_name": "Scala",
   "language": "scala",
   "name": "scala"
  },
  "language_info": {
   "codemirror_mode": "text/x-scala",
   "file_extension": ".sc",
   "mimetype": "text/x-scala",
   "name": "scala",
   "nbconvert_exporter": "script",
   "version": "2.13.14"
  }
 },
 "nbformat": 4,
 "nbformat_minor": 2
}
