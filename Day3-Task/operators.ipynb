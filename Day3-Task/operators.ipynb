{
 "cells": [
  {
   "cell_type": "markdown",
   "metadata": {},
   "source": [
    "# Operators"
   ]
  },
  {
   "cell_type": "markdown",
   "metadata": {},
   "source": [
    "## 1. Arithmetic Operators"
   ]
  },
  {
   "cell_type": "code",
   "execution_count": 1,
   "metadata": {},
   "outputs": [
    {
     "name": "stdout",
     "output_type": "stream",
     "text": [
      "22\n",
      "2\n",
      "120\n",
      "3\n",
      "2\n"
     ]
    },
    {
     "data": {
      "text/html": [
       "<div class=\"jp-RenderedText\">\n",
       "<pre><code><span style=\"color: rgb(0, 187, 187)\"><span class=\"ansi-cyan-fg\">a</span></span>: <span style=\"color: rgb(0, 187, 0)\"><span class=\"ansi-green-fg\">Int</span></span> = <span style=\"color: rgb(0, 187, 0)\"><span class=\"ansi-green-fg\">22</span></span>\n",
       "<span style=\"color: rgb(0, 187, 187)\"><span class=\"ansi-cyan-fg\">b</span></span>: <span style=\"color: rgb(0, 187, 0)\"><span class=\"ansi-green-fg\">Int</span></span> = <span style=\"color: rgb(0, 187, 0)\"><span class=\"ansi-green-fg\">2</span></span>\n",
       "<span style=\"color: rgb(0, 187, 187)\"><span class=\"ansi-cyan-fg\">c</span></span>: <span style=\"color: rgb(0, 187, 0)\"><span class=\"ansi-green-fg\">Int</span></span> = <span style=\"color: rgb(0, 187, 0)\"><span class=\"ansi-green-fg\">120</span></span>\n",
       "<span style=\"color: rgb(0, 187, 187)\"><span class=\"ansi-cyan-fg\">d</span></span>: <span style=\"color: rgb(0, 187, 0)\"><span class=\"ansi-green-fg\">Int</span></span> = <span style=\"color: rgb(0, 187, 0)\"><span class=\"ansi-green-fg\">3</span></span>\n",
       "<span style=\"color: rgb(0, 187, 187)\"><span class=\"ansi-cyan-fg\">e</span></span>: <span style=\"color: rgb(0, 187, 0)\"><span class=\"ansi-green-fg\">Int</span></span> = <span style=\"color: rgb(0, 187, 0)\"><span class=\"ansi-green-fg\">2</span></span></code></pre>\n",
       "</div>"
      ],
      "text/plain": [
       "\u001b[36ma\u001b[39m: \u001b[32mInt\u001b[39m = \u001b[32m22\u001b[39m\n",
       "\u001b[36mb\u001b[39m: \u001b[32mInt\u001b[39m = \u001b[32m2\u001b[39m\n",
       "\u001b[36mc\u001b[39m: \u001b[32mInt\u001b[39m = \u001b[32m120\u001b[39m\n",
       "\u001b[36md\u001b[39m: \u001b[32mInt\u001b[39m = \u001b[32m3\u001b[39m\n",
       "\u001b[36me\u001b[39m: \u001b[32mInt\u001b[39m = \u001b[32m2\u001b[39m"
      ]
     },
     "metadata": {},
     "output_type": "display_data"
    }
   ],
   "source": [
    "// (+) Addition\n",
    "var a = 10 + 12\n",
    "println(a) // prints 22\n",
    "\n",
    "// (-) Substraction\n",
    "var b = 12 - 10\n",
    "println(b) // prints 2\n",
    "\n",
    "// (*) Multiplication\n",
    "var c = 12*10\n",
    "println(c) // prints 120\n",
    "\n",
    "// (/) Division\n",
    "var d = 12/4\n",
    "println(d) // prints 3\n",
    "\n",
    "// (%) Modulus (remainder)\n",
    "var e = 12%5\n",
    "println(e) // prints 2"
   ]
  },
  {
   "cell_type": "markdown",
   "metadata": {},
   "source": [
    "## 2. Relational Operators"
   ]
  },
  {
   "cell_type": "code",
   "execution_count": null,
   "metadata": {},
   "outputs": [],
   "source": [
    "// (==) equal to \n",
    "println(10 == 10) // prints true\n",
    "\n",
    "// (!=) not equal to \n",
    "println(10 != 9) // prints true\n",
    "\n",
    "// (>) greater than\n",
    "println(10 > 8) // prints true\n",
    "\n",
    "// (<) less than\n",
    "println(10 < 12) // prints true\n",
    "\n",
    "// (>=) greater than or equal to \n",
    "println(10 >= 5) // prints true\n",
    "\n",
    "// (<=) less than or equal to \n",
    "println(10 <= 10) // prints true"
   ]
  },
  {
   "cell_type": "markdown",
   "metadata": {},
   "source": [
    "## 3. Logical Operators"
   ]
  },
  {
   "cell_type": "code",
   "execution_count": null,
   "metadata": {},
   "outputs": [],
   "source": [
    "// (&&) Logical AND\n",
    "println(true && false) // prints false\n",
    "\n",
    "// (||) Logical OR\n",
    "println(true || false) // prints true\n",
    "\n",
    "// (!) Logical NOT\n",
    "println(!true) // prints false"
   ]
  },
  {
   "cell_type": "markdown",
   "metadata": {},
   "source": [
    "## 4. Bitwise Operators"
   ]
  },
  {
   "cell_type": "code",
   "execution_count": null,
   "metadata": {},
   "outputs": [],
   "source": [
    "// (&) Bitwise AND\n",
    "println(5 & 3) // results in 1 (binary 101 & 011 = 001)\n",
    "\n",
    "// (|) Bitwise OR\n",
    "println(5 | 3) // results in 7 (binary 101 | 011 = 111)\n",
    "\n",
    "// (^) Bitwise XOR\n",
    "println(5 ^ 3) // results in 6 (binary 101 ^ 011 = 110)\n",
    "\n",
    "// (~) Bitwise NOT\n",
    "println(~5) // results in -6 (inverts all bits)"
   ]
  },
  {
   "cell_type": "markdown",
   "metadata": {},
   "source": [
    "## 5. Assignment Operators"
   ]
  },
  {
   "cell_type": "code",
   "execution_count": null,
   "metadata": {},
   "outputs": [],
   "source": [
    "// (=) Assignment\n",
    "var x = 5\n",
    "println(x)\n",
    "\n",
    "// (+=) Add and assign\n",
    "x += 2 (equivalent to x = x + 2)\n",
    "println(x)\n",
    "\n",
    "// (-=) Subtract and assign\n",
    "x -= 2 (equivalent to x = x - 2)\n",
    "println(x)\n",
    "\n",
    "// (*=) Multiply and assign\n",
    "x *= 2 (equivalent to x = x * 2)\n",
    "println(x)\n",
    "\n",
    "// (/=) Divide and assign\n",
    "x /= 2 (equivalent to x = x / 2)\n",
    "println(x)\n",
    "\n",
    "// (%=) Modulus and assign\n",
    "x %= 2 (equivalent to x = x % 2)\n",
    "println(x)"
   ]
  }
 ],
 "metadata": {
  "kernelspec": {
   "display_name": "Scala",
   "language": "scala",
   "name": "scala"
  },
  "language_info": {
   "codemirror_mode": "text/x-scala",
   "file_extension": ".sc",
   "mimetype": "text/x-scala",
   "name": "scala",
   "nbconvert_exporter": "script",
   "version": "2.13.14"
  }
 },
 "nbformat": 4,
 "nbformat_minor": 2
}
