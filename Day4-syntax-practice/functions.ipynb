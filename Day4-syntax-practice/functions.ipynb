{
 "cells": [
  {
   "cell_type": "code",
   "execution_count": 1,
   "metadata": {},
   "outputs": [
    {
     "name": "stdout",
     "output_type": "stream",
     "text": [
      "400"
     ]
    },
    {
     "data": {
      "text/plain": [
       "defined \u001b[32mfunction\u001b[39m \u001b[36mgiveMeLogic\u001b[39m"
      ]
     },
     "execution_count": 1,
     "metadata": {},
     "output_type": "execute_result"
    }
   ],
   "source": [
    "def giveMeLogic() : Int => Int = x => x*x\n",
    "\n",
    "print(giveMeLogic()(20))"
   ]
  },
  {
   "cell_type": "code",
   "execution_count": 2,
   "metadata": {},
   "outputs": [
    {
     "name": "stdout",
     "output_type": "stream",
     "text": [
      "400"
     ]
    },
    {
     "data": {
      "text/plain": [
       "defined \u001b[32mfunction\u001b[39m \u001b[36mfunc\u001b[39m\n",
       "defined \u001b[32mfunction\u001b[39m \u001b[36mgiveMeLogic\u001b[39m"
      ]
     },
     "execution_count": 2,
     "metadata": {},
     "output_type": "execute_result"
    }
   ],
   "source": [
    "def func(x : Int) : Int = x*x\n",
    "def giveMeLogic() : Int => Int = func\n",
    "\n",
    "print(giveMeLogic()(20))"
   ]
  },
  {
   "cell_type": "code",
   "execution_count": 3,
   "metadata": {},
   "outputs": [
    {
     "name": "stdout",
     "output_type": "stream",
     "text": [
      "16\n"
     ]
    },
    {
     "data": {
      "text/plain": [
       "defined \u001b[32mfunction\u001b[39m \u001b[36mgiveMeDeepLogic\u001b[39m"
      ]
     },
     "execution_count": 3,
     "metadata": {},
     "output_type": "execute_result"
    }
   ],
   "source": [
    "def giveMeDeepLogic() : () => Int => Int = giveMeLogic\n",
    "\n",
    "println(giveMeDeepLogic()()(4))"
   ]
  },
  {
   "cell_type": "code",
   "execution_count": 4,
   "metadata": {},
   "outputs": [
    {
     "name": "stdout",
     "output_type": "stream",
     "text": [
      "36\n"
     ]
    },
    {
     "data": {
      "text/plain": [
       "defined \u001b[32mfunction\u001b[39m \u001b[36mgiveMeDeepLogic1\u001b[39m"
      ]
     },
     "execution_count": 4,
     "metadata": {},
     "output_type": "execute_result"
    }
   ],
   "source": [
    "def giveMeDeepLogic1(a : Int) : () => () => Int => Int = giveMeDeepLogic\n",
    "\n",
    "println(giveMeDeepLogic1(2)()()(6))"
   ]
  },
  {
   "cell_type": "code",
   "execution_count": 5,
   "metadata": {},
   "outputs": [
    {
     "name": "stdout",
     "output_type": "stream",
     "text": [
      "105\n"
     ]
    },
    {
     "data": {
      "text/plain": [
       "defined \u001b[32mfunction\u001b[39m \u001b[36mgiveMeCode\u001b[39m"
      ]
     },
     "execution_count": 5,
     "metadata": {},
     "output_type": "execute_result"
    }
   ],
   "source": [
    "def giveMeCode(ops : String) : (Int, Int) => Int = {\n",
    "    ops match {\n",
    "        case \"add\" => (a, b) => a+b\n",
    "        case \"sub\" => (a, b) => a-b\n",
    "        case \"mul\" => (a, b) => a*b\n",
    "        case _ => (a, b) => -1\n",
    "    }\n",
    "}\n",
    "\n",
    "println(giveMeCode(\"mul\")(15, 7))"
   ]
  },
  {
   "cell_type": "code",
   "execution_count": 6,
   "metadata": {},
   "outputs": [
    {
     "name": "stdout",
     "output_type": "stream",
     "text": [
      "25\n"
     ]
    },
    {
     "data": {
      "text/plain": [
       "defined \u001b[32mfunction\u001b[39m \u001b[36mfunc\u001b[39m\n",
       "defined \u001b[32mfunction\u001b[39m \u001b[36mgiveMeLogic\u001b[39m\n",
       "defined \u001b[32mfunction\u001b[39m \u001b[36mgiveMeDeepLogic\u001b[39m\n",
       "defined \u001b[32mfunction\u001b[39m \u001b[36mgiveMeDeepLogic1\u001b[39m"
      ]
     },
     "execution_count": 6,
     "metadata": {},
     "output_type": "execute_result"
    }
   ],
   "source": [
    "def func(a: Int): Int = a * a\n",
    "\n",
    "def giveMeLogic(a : Int): () => Int = {\n",
    "  () => func(a)\n",
    "}\n",
    "\n",
    "def giveMeDeepLogic(a: Int): () => () => Int = {\n",
    "  () => giveMeLogic(a)\n",
    "}\n",
    "\n",
    "def giveMeDeepLogic1(a: Int): () => () => () => Int = {\n",
    "  () => giveMeDeepLogic(a)\n",
    "}\n",
    "\n",
    "println(giveMeDeepLogic1(5)()()())"
   ]
  },
  {
   "cell_type": "code",
   "execution_count": 7,
   "metadata": {},
   "outputs": [
    {
     "name": "stdout",
     "output_type": "stream",
     "text": [
      "inside inner data is 30 and outerscope data is 35\n",
      "inside inner data is 40 and outerscope data is 75\n",
      "inside inner data is 50 and outerscope data is 125\n"
     ]
    },
    {
     "data": {
      "text/plain": [
       "defined \u001b[32mfunction\u001b[39m \u001b[36mwrapper\u001b[39m"
      ]
     },
     "execution_count": 7,
     "metadata": {},
     "output_type": "execute_result"
    }
   ],
   "source": [
    "def wrapper(outer : Int) : Unit = {\n",
    "    var outerScope = outer\n",
    "    def inner(data : Int) : String = {\n",
    "        outerScope = outerScope + data\n",
    "        println(s\"inside inner data is $data and outerscope data is $outerScope\")\n",
    "        return \"Inner finished\"\n",
    "    }\n",
    "    inner(30)\n",
    "    inner(40)\n",
    "    inner(50)\n",
    "}\n",
    "\n",
    "wrapper(5)"
   ]
  },
  {
   "cell_type": "code",
   "execution_count": 8,
   "metadata": {},
   "outputs": [
    {
     "name": "stdout",
     "output_type": "stream",
     "text": [
      "inside inner data is 20 and outerscope data is 25\n",
      "inside inner data is 30 and outerscope data is 35\n"
     ]
    },
    {
     "data": {
      "text/plain": [
       "defined \u001b[32mfunction\u001b[39m \u001b[36mwrapper\u001b[39m\n",
       "\u001b[36mres8_1\u001b[39m: \u001b[32mString\u001b[39m = \u001b[32m\"Inner finished\"\u001b[39m\n",
       "\u001b[36mres8_2\u001b[39m: \u001b[32mString\u001b[39m = \u001b[32m\"Inner finished\"\u001b[39m"
      ]
     },
     "execution_count": 8,
     "metadata": {},
     "output_type": "execute_result"
    }
   ],
   "source": [
    "def wrapper(outer : Int) : Int => String = {\n",
    "    var outerScope = outer\n",
    "    def inner(data : Int) : String = {\n",
    "        outerScope = outerScope + data\n",
    "        println(s\"inside inner data is $data and outerscope data is $outerScope\")\n",
    "        return \"Inner finished\"\n",
    "    }\n",
    "    inner\n",
    "}\n",
    "\n",
    "// val func = wrapper(5)\n",
    "wrapper(5)(20)\n",
    "wrapper(5)(30)"
   ]
  },
  {
   "cell_type": "code",
   "execution_count": 9,
   "metadata": {},
   "outputs": [
    {
     "name": "stdout",
     "output_type": "stream",
     "text": [
      "x is accessible as 10\n",
      "p is accessible as P string\n",
      "info is accessible as data50\n"
     ]
    },
    {
     "data": {
      "text/plain": [
       "defined \u001b[32mfunction\u001b[39m \u001b[36mfunction1\u001b[39m\n",
       "defined \u001b[32mfunction\u001b[39m \u001b[36mfunction2\u001b[39m"
      ]
     },
     "execution_count": 9,
     "metadata": {},
     "output_type": "execute_result"
    }
   ],
   "source": [
    "def function1(x : Int, func : String => Unit) : Unit = {\n",
    "    func(\"data\" + x)\n",
    "}\n",
    "\n",
    "def function2(p : String) : Unit = {\n",
    "    val x = 10\n",
    "    function1(50, (info) => {\n",
    "        println(s\"x is accessible as $x\")\n",
    "        println(s\"p is accessible as $p\")\n",
    "        println(s\"info is accessible as $info\")\n",
    "    })\n",
    "}\n",
    "\n",
    "function2(\"P string\")"
   ]
  },
  {
   "cell_type": "code",
   "execution_count": 10,
   "metadata": {},
   "outputs": [
    {
     "data": {
      "text/plain": [
       "defined \u001b[32mfunction\u001b[39m \u001b[36maddToppig\u001b[39m"
      ]
     },
     "execution_count": 10,
     "metadata": {},
     "output_type": "execute_result"
    }
   ],
   "source": [
    "def addToppig(result : String) = {\n",
    "    println(s\"Added the Topping $result\")\n",
    "}\n"
   ]
  },
  {
   "cell_type": "code",
   "execution_count": 11,
   "metadata": {},
   "outputs": [
    {
     "name": "stdout",
     "output_type": "stream",
     "text": [
      "21\n"
     ]
    },
    {
     "data": {
      "text/plain": [
       "\u001b[36mmultiplyByTwo\u001b[39m: \u001b[32mInt\u001b[39m => \u001b[32mInt\u001b[39m = ammonite.$sess.cmd11$Helper$$Lambda/0x000070000194e968@4f055f46\n",
       "\u001b[36maddOne\u001b[39m: \u001b[32mInt\u001b[39m => \u001b[32mInt\u001b[39m = ammonite.$sess.cmd11$Helper$$Lambda/0x000070000194ed50@637d54b3\n",
       "\u001b[36mresult\u001b[39m: \u001b[32mInt\u001b[39m => \u001b[32mInt\u001b[39m = scala.Function1$$Lambda/0x0000700001964858@6fe58839"
      ]
     },
     "execution_count": 11,
     "metadata": {},
     "output_type": "execute_result"
    }
   ],
   "source": [
    "val multiplyByTwo = (x : Int) => x*2\n",
    "val addOne = (x : Int) => x+1\n",
    "\n",
    "val result = multiplyByTwo andThen addOne\n",
    "println(result(10))"
   ]
  },
  {
   "cell_type": "code",
   "execution_count": 12,
   "metadata": {},
   "outputs": [
    {
     "name": "stdout",
     "output_type": "stream",
     "text": [
      "Baked cake ready for mango topping\n",
      "Added the topping mango\n",
      "Baked pizza ready for peprikka topping\n",
      "Added the topping peprikka\n"
     ]
    },
    {
     "data": {
      "text/plain": [
       "\u001b[36maddTopping\u001b[39m: \u001b[32mString\u001b[39m => \u001b[32mUnit\u001b[39m = ammonite.$sess.cmd12$Helper$$Lambda/0x0000700001962418@2061dc52\n",
       "\u001b[36mbake\u001b[39m: (\u001b[32mString\u001b[39m, \u001b[32mString\u001b[39m) => \u001b[32mString\u001b[39m = ammonite.$sess.cmd12$Helper$$Lambda/0x00007000019627e0@3cb5ea59\n",
       "\u001b[36mcakeBake\u001b[39m: \u001b[32mString\u001b[39m => \u001b[32mString\u001b[39m = ammonite.$sess.cmd12$Helper$$Lambda/0x0000700001962d88@7482b924\n",
       "\u001b[36mpizzaBake\u001b[39m: \u001b[32mString\u001b[39m => \u001b[32mString\u001b[39m = ammonite.$sess.cmd12$Helper$$Lambda/0x0000700001963158@12a997ca\n",
       "\u001b[36mcakeBaked\u001b[39m: \u001b[32mString\u001b[39m => \u001b[32mUnit\u001b[39m = scala.Function1$$Lambda/0x0000700001964858@52e68021\n",
       "\u001b[36mpizzaBaked\u001b[39m: \u001b[32mString\u001b[39m => \u001b[32mUnit\u001b[39m = scala.Function1$$Lambda/0x0000700001964858@678d06d0"
      ]
     },
     "execution_count": 12,
     "metadata": {},
     "output_type": "execute_result"
    }
   ],
   "source": [
    "val addTopping = (result : String) => {\n",
    "    println(s\"Added the topping $result\")\n",
    "}\n",
    "val bake = (ftype : String, topping : String) => {\n",
    "    println(s\"Baked $ftype ready for $topping topping\")\n",
    "    topping\n",
    "}\n",
    "\n",
    "// val cakeBake = bake andThen addTopping\n",
    "val cakeBake = bake(\"cake\", _:String)\n",
    "val pizzaBake = bake(\"pizza\", _:String)\n",
    "\n",
    "val cakeBaked = cakeBake andThen addTopping\n",
    "val pizzaBaked = pizzaBake andThen addTopping\n",
    "\n",
    "cakeBaked(\"mango\")\n",
    "pizzaBaked(\"peprikka\")"
   ]
  },
  {
   "cell_type": "code",
   "execution_count": 13,
   "metadata": {},
   "outputs": [
    {
     "name": "stdout",
     "output_type": "stream",
     "text": [
      "Baked cake ready for mango topping\n",
      "Added the topping mango\n"
     ]
    },
    {
     "data": {
      "text/plain": [
       "\u001b[32mimport \u001b[39m\u001b[36mscala.Function.tupled\u001b[39m\n",
       "\u001b[36maddTopping\u001b[39m: \u001b[32mString\u001b[39m => \u001b[32mUnit\u001b[39m = ammonite.$sess.cmd13$Helper$$Lambda/0x000070000196c418@5f17dd21\n",
       "\u001b[36mbake\u001b[39m: (\u001b[32mString\u001b[39m, \u001b[32mString\u001b[39m) => \u001b[32mString\u001b[39m = ammonite.$sess.cmd13$Helper$$Lambda/0x000070000196c7e0@57043be0\n",
       "\u001b[36mbakingProcess\u001b[39m: ((\u001b[32mString\u001b[39m, \u001b[32mString\u001b[39m)) => \u001b[32mUnit\u001b[39m = scala.Function1$$Lambda/0x0000700001964858@4f22747d"
      ]
     },
     "execution_count": 13,
     "metadata": {},
     "output_type": "execute_result"
    }
   ],
   "source": [
    "import scala.Function.tupled\n",
    "\n",
    "val addTopping = (result : String) => {\n",
    "    println(s\"Added the topping $result\")\n",
    "}\n",
    "val bake = (ftype : String, topping : String) => {\n",
    "    println(s\"Baked $ftype ready for $topping topping\")\n",
    "    topping\n",
    "}\n",
    "\n",
    "val bakingProcess = bake.tupled andThen addTopping\n",
    "bakingProcess(\"cake\", \"mango\")"
   ]
  }
 ],
 "metadata": {
  "kernelspec": {
   "display_name": "Scala",
   "language": "scala",
   "name": "scala"
  },
  "language_info": {
   "codemirror_mode": "text/x-scala",
   "file_extension": ".sc",
   "mimetype": "text/x-scala",
   "name": "scala",
   "nbconvert_exporter": "script",
   "version": "2.13.14"
  }
 },
 "nbformat": 4,
 "nbformat_minor": 2
}
